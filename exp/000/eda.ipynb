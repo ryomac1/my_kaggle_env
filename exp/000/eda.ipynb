{
 "cells": [
  {
   "cell_type": "code",
   "execution_count": 5,
   "metadata": {},
   "outputs": [],
   "source": [
    "from pathlib import Path\n",
    "\n",
    "import numpy as np\n",
    "import polars as pl\n",
    "import seaborn as sns\n",
    "from hydra import compose, initialize\n",
    "from matplotlib import pyplot as plt\n",
    "\n",
    "\n",
    "pl.Config.set_fmt_str_lengths(100)\n",
    "\n",
    "with initialize(config_path=\"config\", version_base=None):\n",
    "    cfg = compose(config_name=\"config\")\n",
    "    cfg.exp_number = Path().resolve().name\n"
   ]
  },
  {
   "cell_type": "code",
   "execution_count": 6,
   "metadata": {},
   "outputs": [],
   "source": [
    "train_df = pl.read_csv(cfg.path.train, try_parse_dates=True)\n",
    "test_df = pl.read_csv(cfg.path.test, try_parse_dates=True)\n"
   ]
  },
  {
   "cell_type": "code",
   "execution_count": 7,
   "metadata": {},
   "outputs": [
    {
     "name": "stdout",
     "output_type": "stream",
     "text": [
      "■ train\n"
     ]
    },
    {
     "data": {
      "text/html": [
       "<div><style>\n",
       ".dataframe > thead > tr,\n",
       ".dataframe > tbody > tr {\n",
       "  text-align: right;\n",
       "  white-space: pre-wrap;\n",
       "}\n",
       "</style>\n",
       "<small>shape: (5, 15)</small><table border=\"1\" class=\"dataframe\"><thead><tr><th>QuestionId</th><th>ConstructId</th><th>ConstructName</th><th>SubjectId</th><th>SubjectName</th><th>CorrectAnswer</th><th>QuestionText</th><th>AnswerAText</th><th>AnswerBText</th><th>AnswerCText</th><th>AnswerDText</th><th>MisconceptionAId</th><th>MisconceptionBId</th><th>MisconceptionCId</th><th>MisconceptionDId</th></tr><tr><td>i64</td><td>i64</td><td>str</td><td>i64</td><td>str</td><td>str</td><td>str</td><td>str</td><td>str</td><td>str</td><td>str</td><td>f64</td><td>f64</td><td>f64</td><td>f64</td></tr></thead><tbody><tr><td>0</td><td>856</td><td>&quot;Use the order of operations to carry out calculations involving powers&quot;</td><td>33</td><td>&quot;BIDMAS&quot;</td><td>&quot;A&quot;</td><td>&quot;\\[\n",
       "3 \\times 2+4-5\n",
       "\\]\n",
       "Where do the brackets need to go to make the answer equal \\( 13 \\) ?&quot;</td><td>&quot;\\( 3 \\times(2+4)-5 \\)&quot;</td><td>&quot;\\( 3 \\times 2+(4-5) \\)&quot;</td><td>&quot;\\( 3 \\times(2+4-5) \\)&quot;</td><td>&quot;Does not need brackets&quot;</td><td>null</td><td>null</td><td>null</td><td>1672.0</td></tr><tr><td>1</td><td>1612</td><td>&quot;Simplify an algebraic fraction by factorising the numerator&quot;</td><td>1077</td><td>&quot;Simplifying Algebraic Fractions&quot;</td><td>&quot;D&quot;</td><td>&quot;Simplify the following, if possible: \\( \\frac{m^{2}+2 m-3}{m-3} \\)&quot;</td><td>&quot;\\( m+1 \\)&quot;</td><td>&quot;\\( m+2 \\)&quot;</td><td>&quot;\\( m-1 \\)&quot;</td><td>&quot;Does not simplify&quot;</td><td>2142.0</td><td>143.0</td><td>2142.0</td><td>null</td></tr><tr><td>2</td><td>2774</td><td>&quot;Calculate the range from a list of data&quot;</td><td>339</td><td>&quot;Range and Interquartile Range from a List of Data&quot;</td><td>&quot;B&quot;</td><td>&quot;Tom and Katie are discussing the \\( 5 \\) plants with these heights:\n",
       "\\( 24 \\mathrm{~cm}, 17 \\mathrm{~…</td><td>&quot;Only\n",
       "Tom&quot;</td><td>&quot;Only\n",
       "Katie&quot;</td><td>&quot;Both Tom and Katie&quot;</td><td>&quot;Neither is correct&quot;</td><td>1287.0</td><td>null</td><td>1287.0</td><td>1073.0</td></tr><tr><td>3</td><td>2377</td><td>&quot;Recall and use the intersecting diagonals properties of a rectangle&quot;</td><td>88</td><td>&quot;Properties of Quadrilaterals&quot;</td><td>&quot;C&quot;</td><td>&quot;The angles highlighted on this rectangle with different length sides can never be... ![A rectangle w…</td><td>&quot;acute&quot;</td><td>&quot;obtuse&quot;</td><td>&quot;\\( 90^{\\circ} \\)&quot;</td><td>&quot;Not enough information&quot;</td><td>1180.0</td><td>1180.0</td><td>null</td><td>1180.0</td></tr><tr><td>4</td><td>3387</td><td>&quot;Substitute positive integer values into formulae involving powers or roots&quot;</td><td>67</td><td>&quot;Substitution into Formula&quot;</td><td>&quot;A&quot;</td><td>&quot;The equation \\( f=3 r^{2}+3 \\) is used to find values in the table below. What is the value covered …</td><td>&quot;\\( 30 \\)&quot;</td><td>&quot;\\( 27 \\)&quot;</td><td>&quot;\\( 51 \\)&quot;</td><td>&quot;\\( 24 \\)&quot;</td><td>null</td><td>null</td><td>null</td><td>1818.0</td></tr></tbody></table></div>"
      ],
      "text/plain": [
       "shape: (5, 15)\n",
       "┌───────────┬───────────┬───────────┬───────────┬───┬───────────┬───────────┬───────────┬──────────┐\n",
       "│ QuestionI ┆ Construct ┆ Construct ┆ SubjectId ┆ … ┆ Misconcep ┆ Misconcep ┆ Misconcep ┆ Misconce │\n",
       "│ d         ┆ Id        ┆ Name      ┆ ---       ┆   ┆ tionAId   ┆ tionBId   ┆ tionCId   ┆ ptionDId │\n",
       "│ ---       ┆ ---       ┆ ---       ┆ i64       ┆   ┆ ---       ┆ ---       ┆ ---       ┆ ---      │\n",
       "│ i64       ┆ i64       ┆ str       ┆           ┆   ┆ f64       ┆ f64       ┆ f64       ┆ f64      │\n",
       "╞═══════════╪═══════════╪═══════════╪═══════════╪═══╪═══════════╪═══════════╪═══════════╪══════════╡\n",
       "│ 0         ┆ 856       ┆ Use the   ┆ 33        ┆ … ┆ null      ┆ null      ┆ null      ┆ 1672.0   │\n",
       "│           ┆           ┆ order of  ┆           ┆   ┆           ┆           ┆           ┆          │\n",
       "│           ┆           ┆ operation ┆           ┆   ┆           ┆           ┆           ┆          │\n",
       "│           ┆           ┆ s to      ┆           ┆   ┆           ┆           ┆           ┆          │\n",
       "│           ┆           ┆ carry out ┆           ┆   ┆           ┆           ┆           ┆          │\n",
       "│           ┆           ┆ calculati ┆           ┆   ┆           ┆           ┆           ┆          │\n",
       "│           ┆           ┆ ons       ┆           ┆   ┆           ┆           ┆           ┆          │\n",
       "│           ┆           ┆ involving ┆           ┆   ┆           ┆           ┆           ┆          │\n",
       "│           ┆           ┆ powers    ┆           ┆   ┆           ┆           ┆           ┆          │\n",
       "│ 1         ┆ 1612      ┆ Simplify  ┆ 1077      ┆ … ┆ 2142.0    ┆ 143.0     ┆ 2142.0    ┆ null     │\n",
       "│           ┆           ┆ an        ┆           ┆   ┆           ┆           ┆           ┆          │\n",
       "│           ┆           ┆ algebraic ┆           ┆   ┆           ┆           ┆           ┆          │\n",
       "│           ┆           ┆ fraction  ┆           ┆   ┆           ┆           ┆           ┆          │\n",
       "│           ┆           ┆ by factor ┆           ┆   ┆           ┆           ┆           ┆          │\n",
       "│           ┆           ┆ ising the ┆           ┆   ┆           ┆           ┆           ┆          │\n",
       "│           ┆           ┆ numerator ┆           ┆   ┆           ┆           ┆           ┆          │\n",
       "│ 2         ┆ 2774      ┆ Calculate ┆ 339       ┆ … ┆ 1287.0    ┆ null      ┆ 1287.0    ┆ 1073.0   │\n",
       "│           ┆           ┆ the range ┆           ┆   ┆           ┆           ┆           ┆          │\n",
       "│           ┆           ┆ from a    ┆           ┆   ┆           ┆           ┆           ┆          │\n",
       "│           ┆           ┆ list of   ┆           ┆   ┆           ┆           ┆           ┆          │\n",
       "│           ┆           ┆ data      ┆           ┆   ┆           ┆           ┆           ┆          │\n",
       "│ 3         ┆ 2377      ┆ Recall    ┆ 88        ┆ … ┆ 1180.0    ┆ 1180.0    ┆ null      ┆ 1180.0   │\n",
       "│           ┆           ┆ and use   ┆           ┆   ┆           ┆           ┆           ┆          │\n",
       "│           ┆           ┆ the inter ┆           ┆   ┆           ┆           ┆           ┆          │\n",
       "│           ┆           ┆ secting   ┆           ┆   ┆           ┆           ┆           ┆          │\n",
       "│           ┆           ┆ diagonals ┆           ┆   ┆           ┆           ┆           ┆          │\n",
       "│           ┆           ┆ propertie ┆           ┆   ┆           ┆           ┆           ┆          │\n",
       "│           ┆           ┆ s of a    ┆           ┆   ┆           ┆           ┆           ┆          │\n",
       "│           ┆           ┆ rectangle ┆           ┆   ┆           ┆           ┆           ┆          │\n",
       "│ 4         ┆ 3387      ┆ Substitut ┆ 67        ┆ … ┆ null      ┆ null      ┆ null      ┆ 1818.0   │\n",
       "│           ┆           ┆ e         ┆           ┆   ┆           ┆           ┆           ┆          │\n",
       "│           ┆           ┆ positive  ┆           ┆   ┆           ┆           ┆           ┆          │\n",
       "│           ┆           ┆ integer   ┆           ┆   ┆           ┆           ┆           ┆          │\n",
       "│           ┆           ┆ values    ┆           ┆   ┆           ┆           ┆           ┆          │\n",
       "│           ┆           ┆ into      ┆           ┆   ┆           ┆           ┆           ┆          │\n",
       "│           ┆           ┆ formulae  ┆           ┆   ┆           ┆           ┆           ┆          │\n",
       "│           ┆           ┆ involving ┆           ┆   ┆           ┆           ┆           ┆          │\n",
       "│           ┆           ┆ powers or ┆           ┆   ┆           ┆           ┆           ┆          │\n",
       "│           ┆           ┆ roots     ┆           ┆   ┆           ┆           ┆           ┆          │\n",
       "└───────────┴───────────┴───────────┴───────────┴───┴───────────┴───────────┴───────────┴──────────┘"
      ]
     },
     "metadata": {},
     "output_type": "display_data"
    },
    {
     "name": "stdout",
     "output_type": "stream",
     "text": [
      "■ test\n"
     ]
    },
    {
     "data": {
      "text/html": [
       "<div><style>\n",
       ".dataframe > thead > tr,\n",
       ".dataframe > tbody > tr {\n",
       "  text-align: right;\n",
       "  white-space: pre-wrap;\n",
       "}\n",
       "</style>\n",
       "<small>shape: (3, 11)</small><table border=\"1\" class=\"dataframe\"><thead><tr><th>QuestionId</th><th>ConstructId</th><th>ConstructName</th><th>SubjectId</th><th>SubjectName</th><th>CorrectAnswer</th><th>QuestionText</th><th>AnswerAText</th><th>AnswerBText</th><th>AnswerCText</th><th>AnswerDText</th></tr><tr><td>i64</td><td>i64</td><td>str</td><td>i64</td><td>str</td><td>str</td><td>str</td><td>str</td><td>str</td><td>str</td><td>str</td></tr></thead><tbody><tr><td>1869</td><td>856</td><td>&quot;Use the order of operations to carry out calculations involving powers&quot;</td><td>33</td><td>&quot;BIDMAS&quot;</td><td>&quot;A&quot;</td><td>&quot;\\[\n",
       "3 \\times 2+4-5\n",
       "\\]\n",
       "Where do the brackets need to go to make the answer equal \\( 13 \\) ?&quot;</td><td>&quot;\\( 3 \\times(2+4)-5 \\)&quot;</td><td>&quot;\\( 3 \\times 2+(4-5) \\)&quot;</td><td>&quot;\\( 3 \\times(2+4-5) \\)&quot;</td><td>&quot;Does not need brackets&quot;</td></tr><tr><td>1870</td><td>1612</td><td>&quot;Simplify an algebraic fraction by factorising the numerator&quot;</td><td>1077</td><td>&quot;Simplifying Algebraic Fractions&quot;</td><td>&quot;D&quot;</td><td>&quot;Simplify the following, if possible: \\( \\frac{m^{2}+2 m-3}{m-3} \\)&quot;</td><td>&quot;\\( m+1 \\)&quot;</td><td>&quot;\\( m+2 \\)&quot;</td><td>&quot;\\( m-1 \\)&quot;</td><td>&quot;Does not simplify&quot;</td></tr><tr><td>1871</td><td>2774</td><td>&quot;Calculate the range from a list of data&quot;</td><td>339</td><td>&quot;Range and Interquartile Range from a List of Data&quot;</td><td>&quot;B&quot;</td><td>&quot;Tom and Katie are discussing the \\( 5 \\) plants with these heights:\n",
       "\\( 24 \\mathrm{~cm}, 17 \\mathrm{~…</td><td>&quot;Only\n",
       "Tom&quot;</td><td>&quot;Only\n",
       "Katie&quot;</td><td>&quot;Both Tom and Katie&quot;</td><td>&quot;Neither is correct&quot;</td></tr></tbody></table></div>"
      ],
      "text/plain": [
       "shape: (3, 11)\n",
       "┌───────────┬───────────┬───────────┬───────────┬───┬───────────┬───────────┬───────────┬──────────┐\n",
       "│ QuestionI ┆ Construct ┆ Construct ┆ SubjectId ┆ … ┆ AnswerATe ┆ AnswerBTe ┆ AnswerCTe ┆ AnswerDT │\n",
       "│ d         ┆ Id        ┆ Name      ┆ ---       ┆   ┆ xt        ┆ xt        ┆ xt        ┆ ext      │\n",
       "│ ---       ┆ ---       ┆ ---       ┆ i64       ┆   ┆ ---       ┆ ---       ┆ ---       ┆ ---      │\n",
       "│ i64       ┆ i64       ┆ str       ┆           ┆   ┆ str       ┆ str       ┆ str       ┆ str      │\n",
       "╞═══════════╪═══════════╪═══════════╪═══════════╪═══╪═══════════╪═══════════╪═══════════╪══════════╡\n",
       "│ 1869      ┆ 856       ┆ Use the   ┆ 33        ┆ … ┆ \\( 3 \\tim ┆ \\( 3      ┆ \\( 3 \\tim ┆ Does not │\n",
       "│           ┆           ┆ order of  ┆           ┆   ┆ es(2+4)-5 ┆ \\times    ┆ es(2+4-5) ┆ need     │\n",
       "│           ┆           ┆ operation ┆           ┆   ┆ \\)        ┆ 2+(4-5)   ┆ \\)        ┆ brackets │\n",
       "│           ┆           ┆ s to      ┆           ┆   ┆           ┆ \\)        ┆           ┆          │\n",
       "│           ┆           ┆ carry out ┆           ┆   ┆           ┆           ┆           ┆          │\n",
       "│           ┆           ┆ calculati ┆           ┆   ┆           ┆           ┆           ┆          │\n",
       "│           ┆           ┆ ons       ┆           ┆   ┆           ┆           ┆           ┆          │\n",
       "│           ┆           ┆ involving ┆           ┆   ┆           ┆           ┆           ┆          │\n",
       "│           ┆           ┆ powers    ┆           ┆   ┆           ┆           ┆           ┆          │\n",
       "│ 1870      ┆ 1612      ┆ Simplify  ┆ 1077      ┆ … ┆ \\( m+1 \\) ┆ \\( m+2 \\) ┆ \\( m-1 \\) ┆ Does not │\n",
       "│           ┆           ┆ an        ┆           ┆   ┆           ┆           ┆           ┆ simplify │\n",
       "│           ┆           ┆ algebraic ┆           ┆   ┆           ┆           ┆           ┆          │\n",
       "│           ┆           ┆ fraction  ┆           ┆   ┆           ┆           ┆           ┆          │\n",
       "│           ┆           ┆ by factor ┆           ┆   ┆           ┆           ┆           ┆          │\n",
       "│           ┆           ┆ ising the ┆           ┆   ┆           ┆           ┆           ┆          │\n",
       "│           ┆           ┆ numerator ┆           ┆   ┆           ┆           ┆           ┆          │\n",
       "│ 1871      ┆ 2774      ┆ Calculate ┆ 339       ┆ … ┆ Only      ┆ Only      ┆ Both Tom  ┆ Neither  │\n",
       "│           ┆           ┆ the range ┆           ┆   ┆ Tom       ┆ Katie     ┆ and Katie ┆ is       │\n",
       "│           ┆           ┆ from a    ┆           ┆   ┆           ┆           ┆           ┆ correct  │\n",
       "│           ┆           ┆ list of   ┆           ┆   ┆           ┆           ┆           ┆          │\n",
       "│           ┆           ┆ data      ┆           ┆   ┆           ┆           ┆           ┆          │\n",
       "└───────────┴───────────┴───────────┴───────────┴───┴───────────┴───────────┴───────────┴──────────┘"
      ]
     },
     "metadata": {},
     "output_type": "display_data"
    }
   ],
   "source": [
    "print(\"■ train\")\n",
    "display(train_df.head())\n",
    "print(\"■ test\")\n",
    "display(test_df.head())\n"
   ]
  },
  {
   "cell_type": "code",
   "execution_count": 2,
   "metadata": {},
   "outputs": [],
   "source": [
    "print(\"■ train\")\n",
    "display(train_df.describe())\n",
    "print(train_df.dtypes)\n",
    "print(f\"行数: {train_df.shape[0]}, 列数: {train_df.shape[1]}\")\n",
    "\n",
    "print(\"\\n■ test\")\n",
    "display(test_df.describe())\n",
    "print(test_df.dtypes)\n",
    "print(f\"行数: {test_df.shape[0]}, 列数: {test_df.shape[1]}\")\n",
    "print(set(train_df.columns) - set(test_df.columns))\n"
   ]
  }
 ],
 "metadata": {
  "kernelspec": {
   "display_name": ".venv",
   "language": "python",
   "name": "python3"
  },
  "language_info": {
   "codemirror_mode": {
    "name": "ipython",
    "version": 3
   },
   "file_extension": ".py",
   "mimetype": "text/x-python",
   "name": "python",
   "nbconvert_exporter": "python",
   "pygments_lexer": "ipython3",
   "version": "3.12.7"
  }
 },
 "nbformat": 4,
 "nbformat_minor": 2
}
