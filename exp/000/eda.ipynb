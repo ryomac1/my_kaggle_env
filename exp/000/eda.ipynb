{
 "cells": [
  {
   "cell_type": "code",
   "execution_count": 2,
   "metadata": {},
   "outputs": [],
   "source": [
    "from pathlib import Path\n",
    "\n",
    "import numpy as np\n",
    "import polars as pl\n",
    "import seaborn as sns\n",
    "from hydra import compose, initialize\n",
    "from matplotlib import pyplot as plt\n",
    "\n",
    "\n",
    "pl.Config.set_fmt_str_lengths(100)\n",
    "\n",
    "with initialize(config_path=\"config\", version_base=None):\n",
    "    cfg = compose(config_name=\"config\")\n",
    "    cfg.exp_number = Path().resolve().name\n"
   ]
  },
  {
   "cell_type": "code",
   "execution_count": 14,
   "metadata": {},
   "outputs": [],
   "source": [
    "EXP_NAME = \"fine-tuning-bge\"\n",
    "DATA_PATH = \"/kaggle/input/eedi-mining-misconceptions-in-mathematics\"\n",
    "MODEL_NAME = \"BAAI/bge-large-en-v1.5\"\n",
    "COMPETITION_NAME = \"eedi-mining-misconceptions-in-mathematics\"\n",
    "OUTPUT_PATH = \".\"\n",
    "MODEL_OUTPUT_PATH = f\"{OUTPUT_PATH}/trained_model\"\n",
    "RETRIEVE_NUM = 25\n",
    "\n",
    "EPOCH = 2\n",
    "LR = 2e-05\n",
    "BS = 8\n",
    "GRAD_ACC_STEP = 128 // BS\n",
    "\n",
    "TRAINING = True\n",
    "DEBUG = False\n",
    "WANDB = False\n"
   ]
  },
  {
   "cell_type": "code",
   "execution_count": 33,
   "metadata": {},
   "outputs": [],
   "source": [
    "import os\n",
    "import numpy as np\n",
    "\n",
    "from datasets import load_dataset, Dataset\n",
    "\n",
    "import polars as pl\n",
    "\n",
    "from sklearn.metrics.pairwise import cosine_similarity\n",
    "\n",
    "from sentence_transformers.losses import MultipleNegativesRankingLoss\n",
    "from sentence_transformers import (\n",
    "    SentenceTransformer,\n",
    "    SentenceTransformerTrainer,\n",
    "    SentenceTransformerTrainingArguments,\n",
    ")\n",
    "from sentence_transformers.training_args import BatchSamplers\n",
    "from sentence_transformers.evaluation import TripletEvaluator\n"
   ]
  },
  {
   "cell_type": "code",
   "execution_count": 16,
   "metadata": {},
   "outputs": [],
   "source": [
    "import datasets\n",
    "import sentence_transformers\n"
   ]
  },
  {
   "cell_type": "code",
   "execution_count": 17,
   "metadata": {},
   "outputs": [
    {
     "data": {
      "text/plain": [
       "32"
      ]
     },
     "execution_count": 17,
     "metadata": {},
     "output_type": "execute_result"
    }
   ],
   "source": [
    "NUM_PROC = os.cpu_count()\n",
    "NUM_PROC\n"
   ]
  },
  {
   "cell_type": "code",
   "execution_count": 18,
   "metadata": {},
   "outputs": [
    {
     "data": {
      "text/plain": [
       "'none'"
      ]
     },
     "execution_count": 18,
     "metadata": {},
     "output_type": "execute_result"
    }
   ],
   "source": [
    "if WANDB:\n",
    "    # Settings -> add wandb api\n",
    "    from kaggle_secrets import UserSecretsClient\n",
    "    user_secrets = UserSecretsClient()\n",
    "    wandb.login(key=user_secrets.get_secret(\"wandb_api\"))\n",
    "    wandb.init(project=COMPETITION_NAME, name=EXP_NAME)\n",
    "    REPORT_TO = \"wandb\"\n",
    "else:\n",
    "    REPORT_TO = \"none\"\n",
    "\n",
    "REPORT_TO\n"
   ]
  },
  {
   "cell_type": "code",
   "execution_count": 19,
   "metadata": {},
   "outputs": [],
   "source": [
    "train = pl.read_csv(cfg.path.train, try_parse_dates=True)\n",
    "test = pl.read_csv(cfg.path.test, try_parse_dates=True)\n",
    "misconception_mapping = pl.read_csv(cfg.path.misconception_mapping, try_parse_dates=True)\n"
   ]
  },
  {
   "cell_type": "code",
   "execution_count": 20,
   "metadata": {},
   "outputs": [
    {
     "data": {
      "text/html": [
       "<div><style>\n",
       ".dataframe > thead > tr,\n",
       ".dataframe > tbody > tr {\n",
       "  text-align: right;\n",
       "  white-space: pre-wrap;\n",
       "}\n",
       "</style>\n",
       "<small>shape: (5, 10)</small><table border=\"1\" class=\"dataframe\"><thead><tr><th>QuestionId</th><th>ConstructName</th><th>SubjectName</th><th>QuestionText</th><th>CorrectAnswer</th><th>AnswerType</th><th>AnswerText</th><th>AllText</th><th>AnswerAlphabet</th><th>QuestionId_Answer</th></tr><tr><td>i64</td><td>str</td><td>str</td><td>str</td><td>str</td><td>str</td><td>str</td><td>str</td><td>str</td><td>str</td></tr></thead><tbody><tr><td>0</td><td>&quot;Use the order of operations to carry out calculations involving powers&quot;</td><td>&quot;BIDMAS&quot;</td><td>&quot;\\[\n",
       "3 \\times 2+4-5\n",
       "\\]\n",
       "Where do the brackets need to go to make the answer equal \\( 13 \\) ?&quot;</td><td>&quot;A&quot;</td><td>&quot;AnswerAText&quot;</td><td>&quot;\\( 3 \\times(2+4)-5 \\)&quot;</td><td>&quot;Use the order of operations to carry out calculations involving powers BIDMAS \\[\n",
       "3 \\times 2+4-5\n",
       "\\]\n",
       "W…</td><td>&quot;A&quot;</td><td>&quot;0_A&quot;</td></tr><tr><td>0</td><td>&quot;Use the order of operations to carry out calculations involving powers&quot;</td><td>&quot;BIDMAS&quot;</td><td>&quot;\\[\n",
       "3 \\times 2+4-5\n",
       "\\]\n",
       "Where do the brackets need to go to make the answer equal \\( 13 \\) ?&quot;</td><td>&quot;A&quot;</td><td>&quot;AnswerBText&quot;</td><td>&quot;\\( 3 \\times 2+(4-5) \\)&quot;</td><td>&quot;Use the order of operations to carry out calculations involving powers BIDMAS \\[\n",
       "3 \\times 2+4-5\n",
       "\\]\n",
       "W…</td><td>&quot;B&quot;</td><td>&quot;0_B&quot;</td></tr><tr><td>0</td><td>&quot;Use the order of operations to carry out calculations involving powers&quot;</td><td>&quot;BIDMAS&quot;</td><td>&quot;\\[\n",
       "3 \\times 2+4-5\n",
       "\\]\n",
       "Where do the brackets need to go to make the answer equal \\( 13 \\) ?&quot;</td><td>&quot;A&quot;</td><td>&quot;AnswerCText&quot;</td><td>&quot;\\( 3 \\times(2+4-5) \\)&quot;</td><td>&quot;Use the order of operations to carry out calculations involving powers BIDMAS \\[\n",
       "3 \\times 2+4-5\n",
       "\\]\n",
       "W…</td><td>&quot;C&quot;</td><td>&quot;0_C&quot;</td></tr><tr><td>0</td><td>&quot;Use the order of operations to carry out calculations involving powers&quot;</td><td>&quot;BIDMAS&quot;</td><td>&quot;\\[\n",
       "3 \\times 2+4-5\n",
       "\\]\n",
       "Where do the brackets need to go to make the answer equal \\( 13 \\) ?&quot;</td><td>&quot;A&quot;</td><td>&quot;AnswerDText&quot;</td><td>&quot;Does not need brackets&quot;</td><td>&quot;Use the order of operations to carry out calculations involving powers BIDMAS \\[\n",
       "3 \\times 2+4-5\n",
       "\\]\n",
       "W…</td><td>&quot;D&quot;</td><td>&quot;0_D&quot;</td></tr><tr><td>1000</td><td>&quot;Simplify an algebraic fraction by factorising the numerator&quot;</td><td>&quot;Simplifying Algebraic Fractions&quot;</td><td>&quot;Simplify the following, if possible: \\( \\frac{1-t}{t-1} \\)&quot;</td><td>&quot;B&quot;</td><td>&quot;AnswerAText&quot;</td><td>&quot;\\( t \\)&quot;</td><td>&quot;Simplify an algebraic fraction by factorising the numerator Simplifying Algebraic Fractions Simplify…</td><td>&quot;A&quot;</td><td>&quot;1000_A&quot;</td></tr></tbody></table></div>"
      ],
      "text/plain": [
       "shape: (5, 10)\n",
       "┌───────────┬───────────┬───────────┬───────────┬───┬───────────┬───────────┬───────────┬──────────┐\n",
       "│ QuestionI ┆ Construct ┆ SubjectNa ┆ QuestionT ┆ … ┆ AnswerTex ┆ AllText   ┆ AnswerAlp ┆ Question │\n",
       "│ d         ┆ Name      ┆ me        ┆ ext       ┆   ┆ t         ┆ ---       ┆ habet     ┆ Id_Answe │\n",
       "│ ---       ┆ ---       ┆ ---       ┆ ---       ┆   ┆ ---       ┆ str       ┆ ---       ┆ r        │\n",
       "│ i64       ┆ str       ┆ str       ┆ str       ┆   ┆ str       ┆           ┆ str       ┆ ---      │\n",
       "│           ┆           ┆           ┆           ┆   ┆           ┆           ┆           ┆ str      │\n",
       "╞═══════════╪═══════════╪═══════════╪═══════════╪═══╪═══════════╪═══════════╪═══════════╪══════════╡\n",
       "│ 0         ┆ Use the   ┆ BIDMAS    ┆ \\[        ┆ … ┆ \\( 3 \\tim ┆ Use the   ┆ A         ┆ 0_A      │\n",
       "│           ┆ order of  ┆           ┆ 3 \\times  ┆   ┆ es(2+4)-5 ┆ order of  ┆           ┆          │\n",
       "│           ┆ operation ┆           ┆ 2+4-5     ┆   ┆ \\)        ┆ operation ┆           ┆          │\n",
       "│           ┆ s to      ┆           ┆ \\]        ┆   ┆           ┆ s to      ┆           ┆          │\n",
       "│           ┆ carry out ┆           ┆ Where do  ┆   ┆           ┆ carry out ┆           ┆          │\n",
       "│           ┆ calculati ┆           ┆ the       ┆   ┆           ┆ calculati ┆           ┆          │\n",
       "│           ┆ ons       ┆           ┆ brackets  ┆   ┆           ┆ ons       ┆           ┆          │\n",
       "│           ┆ involving ┆           ┆ need to   ┆   ┆           ┆ involving ┆           ┆          │\n",
       "│           ┆ powers    ┆           ┆ go to     ┆   ┆           ┆ powers    ┆           ┆          │\n",
       "│           ┆           ┆           ┆ make the  ┆   ┆           ┆ BIDMAS \\[ ┆           ┆          │\n",
       "│           ┆           ┆           ┆ answer    ┆   ┆           ┆ 3 \\times  ┆           ┆          │\n",
       "│           ┆           ┆           ┆ equal \\(  ┆   ┆           ┆ 2+4-5     ┆           ┆          │\n",
       "│           ┆           ┆           ┆ 13 \\) ?   ┆   ┆           ┆ \\]        ┆           ┆          │\n",
       "│           ┆           ┆           ┆           ┆   ┆           ┆ W…        ┆           ┆          │\n",
       "│ 0         ┆ Use the   ┆ BIDMAS    ┆ \\[        ┆ … ┆ \\( 3      ┆ Use the   ┆ B         ┆ 0_B      │\n",
       "│           ┆ order of  ┆           ┆ 3 \\times  ┆   ┆ \\times    ┆ order of  ┆           ┆          │\n",
       "│           ┆ operation ┆           ┆ 2+4-5     ┆   ┆ 2+(4-5)   ┆ operation ┆           ┆          │\n",
       "│           ┆ s to      ┆           ┆ \\]        ┆   ┆ \\)        ┆ s to      ┆           ┆          │\n",
       "│           ┆ carry out ┆           ┆ Where do  ┆   ┆           ┆ carry out ┆           ┆          │\n",
       "│           ┆ calculati ┆           ┆ the       ┆   ┆           ┆ calculati ┆           ┆          │\n",
       "│           ┆ ons       ┆           ┆ brackets  ┆   ┆           ┆ ons       ┆           ┆          │\n",
       "│           ┆ involving ┆           ┆ need to   ┆   ┆           ┆ involving ┆           ┆          │\n",
       "│           ┆ powers    ┆           ┆ go to     ┆   ┆           ┆ powers    ┆           ┆          │\n",
       "│           ┆           ┆           ┆ make the  ┆   ┆           ┆ BIDMAS \\[ ┆           ┆          │\n",
       "│           ┆           ┆           ┆ answer    ┆   ┆           ┆ 3 \\times  ┆           ┆          │\n",
       "│           ┆           ┆           ┆ equal \\(  ┆   ┆           ┆ 2+4-5     ┆           ┆          │\n",
       "│           ┆           ┆           ┆ 13 \\) ?   ┆   ┆           ┆ \\]        ┆           ┆          │\n",
       "│           ┆           ┆           ┆           ┆   ┆           ┆ W…        ┆           ┆          │\n",
       "│ 0         ┆ Use the   ┆ BIDMAS    ┆ \\[        ┆ … ┆ \\( 3 \\tim ┆ Use the   ┆ C         ┆ 0_C      │\n",
       "│           ┆ order of  ┆           ┆ 3 \\times  ┆   ┆ es(2+4-5) ┆ order of  ┆           ┆          │\n",
       "│           ┆ operation ┆           ┆ 2+4-5     ┆   ┆ \\)        ┆ operation ┆           ┆          │\n",
       "│           ┆ s to      ┆           ┆ \\]        ┆   ┆           ┆ s to      ┆           ┆          │\n",
       "│           ┆ carry out ┆           ┆ Where do  ┆   ┆           ┆ carry out ┆           ┆          │\n",
       "│           ┆ calculati ┆           ┆ the       ┆   ┆           ┆ calculati ┆           ┆          │\n",
       "│           ┆ ons       ┆           ┆ brackets  ┆   ┆           ┆ ons       ┆           ┆          │\n",
       "│           ┆ involving ┆           ┆ need to   ┆   ┆           ┆ involving ┆           ┆          │\n",
       "│           ┆ powers    ┆           ┆ go to     ┆   ┆           ┆ powers    ┆           ┆          │\n",
       "│           ┆           ┆           ┆ make the  ┆   ┆           ┆ BIDMAS \\[ ┆           ┆          │\n",
       "│           ┆           ┆           ┆ answer    ┆   ┆           ┆ 3 \\times  ┆           ┆          │\n",
       "│           ┆           ┆           ┆ equal \\(  ┆   ┆           ┆ 2+4-5     ┆           ┆          │\n",
       "│           ┆           ┆           ┆ 13 \\) ?   ┆   ┆           ┆ \\]        ┆           ┆          │\n",
       "│           ┆           ┆           ┆           ┆   ┆           ┆ W…        ┆           ┆          │\n",
       "│ 0         ┆ Use the   ┆ BIDMAS    ┆ \\[        ┆ … ┆ Does not  ┆ Use the   ┆ D         ┆ 0_D      │\n",
       "│           ┆ order of  ┆           ┆ 3 \\times  ┆   ┆ need      ┆ order of  ┆           ┆          │\n",
       "│           ┆ operation ┆           ┆ 2+4-5     ┆   ┆ brackets  ┆ operation ┆           ┆          │\n",
       "│           ┆ s to      ┆           ┆ \\]        ┆   ┆           ┆ s to      ┆           ┆          │\n",
       "│           ┆ carry out ┆           ┆ Where do  ┆   ┆           ┆ carry out ┆           ┆          │\n",
       "│           ┆ calculati ┆           ┆ the       ┆   ┆           ┆ calculati ┆           ┆          │\n",
       "│           ┆ ons       ┆           ┆ brackets  ┆   ┆           ┆ ons       ┆           ┆          │\n",
       "│           ┆ involving ┆           ┆ need to   ┆   ┆           ┆ involving ┆           ┆          │\n",
       "│           ┆ powers    ┆           ┆ go to     ┆   ┆           ┆ powers    ┆           ┆          │\n",
       "│           ┆           ┆           ┆ make the  ┆   ┆           ┆ BIDMAS \\[ ┆           ┆          │\n",
       "│           ┆           ┆           ┆ answer    ┆   ┆           ┆ 3 \\times  ┆           ┆          │\n",
       "│           ┆           ┆           ┆ equal \\(  ┆   ┆           ┆ 2+4-5     ┆           ┆          │\n",
       "│           ┆           ┆           ┆ 13 \\) ?   ┆   ┆           ┆ \\]        ┆           ┆          │\n",
       "│           ┆           ┆           ┆           ┆   ┆           ┆ W…        ┆           ┆          │\n",
       "│ 1000      ┆ Simplify  ┆ Simplifyi ┆ Simplify  ┆ … ┆ \\( t \\)   ┆ Simplify  ┆ A         ┆ 1000_A   │\n",
       "│           ┆ an        ┆ ng        ┆ the follo ┆   ┆           ┆ an        ┆           ┆          │\n",
       "│           ┆ algebraic ┆ Algebraic ┆ wing, if  ┆   ┆           ┆ algebraic ┆           ┆          │\n",
       "│           ┆ fraction  ┆ Fractions ┆ possible: ┆   ┆           ┆ fraction  ┆           ┆          │\n",
       "│           ┆ by factor ┆           ┆ \\( \\frac{ ┆   ┆           ┆ by factor ┆           ┆          │\n",
       "│           ┆ ising the ┆           ┆ 1-t}{t-1} ┆   ┆           ┆ ising the ┆           ┆          │\n",
       "│           ┆ numerator ┆           ┆ \\)        ┆   ┆           ┆ numerator ┆           ┆          │\n",
       "│           ┆           ┆           ┆           ┆   ┆           ┆ Simplifyi ┆           ┆          │\n",
       "│           ┆           ┆           ┆           ┆   ┆           ┆ ng        ┆           ┆          │\n",
       "│           ┆           ┆           ┆           ┆   ┆           ┆ Algebraic ┆           ┆          │\n",
       "│           ┆           ┆           ┆           ┆   ┆           ┆ Fractions ┆           ┆          │\n",
       "│           ┆           ┆           ┆           ┆   ┆           ┆ Simplify… ┆           ┆          │\n",
       "└───────────┴───────────┴───────────┴───────────┴───┴───────────┴───────────┴───────────┴──────────┘"
      ]
     },
     "execution_count": 20,
     "metadata": {},
     "output_type": "execute_result"
    }
   ],
   "source": [
    "common_col = [\n",
    "    \"QuestionId\",\n",
    "    \"ConstructName\",\n",
    "    \"SubjectName\",\n",
    "    \"QuestionText\",\n",
    "    \"CorrectAnswer\",\n",
    "]\n",
    "\n",
    "train_long = (\n",
    "    train\n",
    "    .select(\n",
    "        pl.col(common_col + [f\"Answer{alpha}Text\" for alpha in [\"A\", \"B\", \"C\", \"D\"]])\n",
    "    )\n",
    "    .unpivot(\n",
    "        index=common_col,\n",
    "        variable_name=\"AnswerType\",\n",
    "        value_name=\"AnswerText\",\n",
    "    )\n",
    "    .with_columns(\n",
    "        pl.concat_str(\n",
    "            [\n",
    "                pl.col(\"ConstructName\"),\n",
    "                pl.col(\"SubjectName\"),\n",
    "                pl.col(\"QuestionText\"),\n",
    "                pl.col(\"AnswerText\"),\n",
    "            ],\n",
    "            separator=\" \",\n",
    "        ).alias(\"AllText\"),\n",
    "        pl.col(\"AnswerType\").str.extract(r\"Answer([A-D])Text$\").alias(\"AnswerAlphabet\"),\n",
    "    )\n",
    "    .with_columns(\n",
    "        pl.concat_str(\n",
    "            [pl.col(\"QuestionId\"), pl.col(\"AnswerAlphabet\")], separator=\"_\"\n",
    "        ).alias(\"QuestionId_Answer\"),\n",
    "    )\n",
    "    .sort(\"QuestionId_Answer\")\n",
    ")\n",
    "train_long.head()\n"
   ]
  },
  {
   "cell_type": "code",
   "execution_count": 21,
   "metadata": {},
   "outputs": [
    {
     "data": {
      "text/html": [
       "<div><style>\n",
       ".dataframe > thead > tr,\n",
       ".dataframe > tbody > tr {\n",
       "  text-align: right;\n",
       "  white-space: pre-wrap;\n",
       "}\n",
       "</style>\n",
       "<small>shape: (5, 2)</small><table border=\"1\" class=\"dataframe\"><thead><tr><th>QuestionId_Answer</th><th>MisconceptionId</th></tr><tr><td>str</td><td>i64</td></tr></thead><tbody><tr><td>&quot;0_A&quot;</td><td>null</td></tr><tr><td>&quot;0_B&quot;</td><td>null</td></tr><tr><td>&quot;0_C&quot;</td><td>null</td></tr><tr><td>&quot;0_D&quot;</td><td>1672</td></tr><tr><td>&quot;1000_A&quot;</td><td>891</td></tr></tbody></table></div>"
      ],
      "text/plain": [
       "shape: (5, 2)\n",
       "┌───────────────────┬─────────────────┐\n",
       "│ QuestionId_Answer ┆ MisconceptionId │\n",
       "│ ---               ┆ ---             │\n",
       "│ str               ┆ i64             │\n",
       "╞═══════════════════╪═════════════════╡\n",
       "│ 0_A               ┆ null            │\n",
       "│ 0_B               ┆ null            │\n",
       "│ 0_C               ┆ null            │\n",
       "│ 0_D               ┆ 1672            │\n",
       "│ 1000_A            ┆ 891             │\n",
       "└───────────────────┴─────────────────┘"
      ]
     },
     "execution_count": 21,
     "metadata": {},
     "output_type": "execute_result"
    }
   ],
   "source": [
    "train_misconception_long = (\n",
    "    train.select(\n",
    "        pl.col(\n",
    "            common_col + [f\"Misconception{alpha}Id\" for alpha in [\"A\", \"B\", \"C\", \"D\"]]\n",
    "        )\n",
    "    )\n",
    "    .unpivot(\n",
    "        index=common_col,\n",
    "        variable_name=\"MisconceptionType\",\n",
    "        value_name=\"MisconceptionId\",\n",
    "    )\n",
    "    .with_columns(\n",
    "        pl.col(\"MisconceptionType\")\n",
    "        .str.extract(r\"Misconception([A-D])Id$\")\n",
    "        .alias(\"AnswerAlphabet\"),\n",
    "    )\n",
    "    .with_columns(\n",
    "        pl.concat_str(\n",
    "            [pl.col(\"QuestionId\"), pl.col(\"AnswerAlphabet\")], separator=\"_\"\n",
    "        ).alias(\"QuestionId_Answer\"),\n",
    "    )\n",
    "    .sort(\"QuestionId_Answer\")\n",
    "    .select(pl.col([\"QuestionId_Answer\", \"MisconceptionId\"]))\n",
    "    .with_columns(pl.col(\"MisconceptionId\").cast(pl.Int64))\n",
    ")\n",
    "\n",
    "train_misconception_long.head()\n"
   ]
  },
  {
   "cell_type": "code",
   "execution_count": 22,
   "metadata": {},
   "outputs": [
    {
     "data": {
      "text/html": [
       "<div><style>\n",
       ".dataframe > thead > tr,\n",
       ".dataframe > tbody > tr {\n",
       "  text-align: right;\n",
       "  white-space: pre-wrap;\n",
       "}\n",
       "</style>\n",
       "<small>shape: (5, 11)</small><table border=\"1\" class=\"dataframe\"><thead><tr><th>QuestionId</th><th>ConstructName</th><th>SubjectName</th><th>QuestionText</th><th>CorrectAnswer</th><th>AnswerType</th><th>AnswerText</th><th>AllText</th><th>AnswerAlphabet</th><th>QuestionId_Answer</th><th>MisconceptionId</th></tr><tr><td>i64</td><td>str</td><td>str</td><td>str</td><td>str</td><td>str</td><td>str</td><td>str</td><td>str</td><td>str</td><td>i64</td></tr></thead><tbody><tr><td>0</td><td>&quot;Use the order of operations to carry out calculations involving powers&quot;</td><td>&quot;BIDMAS&quot;</td><td>&quot;\\[\n",
       "3 \\times 2+4-5\n",
       "\\]\n",
       "Where do the brackets need to go to make the answer equal \\( 13 \\) ?&quot;</td><td>&quot;A&quot;</td><td>&quot;AnswerAText&quot;</td><td>&quot;\\( 3 \\times(2+4)-5 \\)&quot;</td><td>&quot;Use the order of operations to carry out calculations involving powers BIDMAS \\[\n",
       "3 \\times 2+4-5\n",
       "\\]\n",
       "W…</td><td>&quot;A&quot;</td><td>&quot;0_A&quot;</td><td>null</td></tr><tr><td>0</td><td>&quot;Use the order of operations to carry out calculations involving powers&quot;</td><td>&quot;BIDMAS&quot;</td><td>&quot;\\[\n",
       "3 \\times 2+4-5\n",
       "\\]\n",
       "Where do the brackets need to go to make the answer equal \\( 13 \\) ?&quot;</td><td>&quot;A&quot;</td><td>&quot;AnswerBText&quot;</td><td>&quot;\\( 3 \\times 2+(4-5) \\)&quot;</td><td>&quot;Use the order of operations to carry out calculations involving powers BIDMAS \\[\n",
       "3 \\times 2+4-5\n",
       "\\]\n",
       "W…</td><td>&quot;B&quot;</td><td>&quot;0_B&quot;</td><td>null</td></tr><tr><td>0</td><td>&quot;Use the order of operations to carry out calculations involving powers&quot;</td><td>&quot;BIDMAS&quot;</td><td>&quot;\\[\n",
       "3 \\times 2+4-5\n",
       "\\]\n",
       "Where do the brackets need to go to make the answer equal \\( 13 \\) ?&quot;</td><td>&quot;A&quot;</td><td>&quot;AnswerCText&quot;</td><td>&quot;\\( 3 \\times(2+4-5) \\)&quot;</td><td>&quot;Use the order of operations to carry out calculations involving powers BIDMAS \\[\n",
       "3 \\times 2+4-5\n",
       "\\]\n",
       "W…</td><td>&quot;C&quot;</td><td>&quot;0_C&quot;</td><td>null</td></tr><tr><td>0</td><td>&quot;Use the order of operations to carry out calculations involving powers&quot;</td><td>&quot;BIDMAS&quot;</td><td>&quot;\\[\n",
       "3 \\times 2+4-5\n",
       "\\]\n",
       "Where do the brackets need to go to make the answer equal \\( 13 \\) ?&quot;</td><td>&quot;A&quot;</td><td>&quot;AnswerDText&quot;</td><td>&quot;Does not need brackets&quot;</td><td>&quot;Use the order of operations to carry out calculations involving powers BIDMAS \\[\n",
       "3 \\times 2+4-5\n",
       "\\]\n",
       "W…</td><td>&quot;D&quot;</td><td>&quot;0_D&quot;</td><td>1672</td></tr><tr><td>1000</td><td>&quot;Simplify an algebraic fraction by factorising the numerator&quot;</td><td>&quot;Simplifying Algebraic Fractions&quot;</td><td>&quot;Simplify the following, if possible: \\( \\frac{1-t}{t-1} \\)&quot;</td><td>&quot;B&quot;</td><td>&quot;AnswerAText&quot;</td><td>&quot;\\( t \\)&quot;</td><td>&quot;Simplify an algebraic fraction by factorising the numerator Simplifying Algebraic Fractions Simplify…</td><td>&quot;A&quot;</td><td>&quot;1000_A&quot;</td><td>891</td></tr></tbody></table></div>"
      ],
      "text/plain": [
       "shape: (5, 11)\n",
       "┌───────────┬───────────┬───────────┬───────────┬───┬───────────┬───────────┬───────────┬──────────┐\n",
       "│ QuestionI ┆ Construct ┆ SubjectNa ┆ QuestionT ┆ … ┆ AllText   ┆ AnswerAlp ┆ QuestionI ┆ Misconce │\n",
       "│ d         ┆ Name      ┆ me        ┆ ext       ┆   ┆ ---       ┆ habet     ┆ d_Answer  ┆ ptionId  │\n",
       "│ ---       ┆ ---       ┆ ---       ┆ ---       ┆   ┆ str       ┆ ---       ┆ ---       ┆ ---      │\n",
       "│ i64       ┆ str       ┆ str       ┆ str       ┆   ┆           ┆ str       ┆ str       ┆ i64      │\n",
       "╞═══════════╪═══════════╪═══════════╪═══════════╪═══╪═══════════╪═══════════╪═══════════╪══════════╡\n",
       "│ 0         ┆ Use the   ┆ BIDMAS    ┆ \\[        ┆ … ┆ Use the   ┆ A         ┆ 0_A       ┆ null     │\n",
       "│           ┆ order of  ┆           ┆ 3 \\times  ┆   ┆ order of  ┆           ┆           ┆          │\n",
       "│           ┆ operation ┆           ┆ 2+4-5     ┆   ┆ operation ┆           ┆           ┆          │\n",
       "│           ┆ s to      ┆           ┆ \\]        ┆   ┆ s to      ┆           ┆           ┆          │\n",
       "│           ┆ carry out ┆           ┆ Where do  ┆   ┆ carry out ┆           ┆           ┆          │\n",
       "│           ┆ calculati ┆           ┆ the       ┆   ┆ calculati ┆           ┆           ┆          │\n",
       "│           ┆ ons       ┆           ┆ brackets  ┆   ┆ ons       ┆           ┆           ┆          │\n",
       "│           ┆ involving ┆           ┆ need to   ┆   ┆ involving ┆           ┆           ┆          │\n",
       "│           ┆ powers    ┆           ┆ go to     ┆   ┆ powers    ┆           ┆           ┆          │\n",
       "│           ┆           ┆           ┆ make the  ┆   ┆ BIDMAS \\[ ┆           ┆           ┆          │\n",
       "│           ┆           ┆           ┆ answer    ┆   ┆ 3 \\times  ┆           ┆           ┆          │\n",
       "│           ┆           ┆           ┆ equal \\(  ┆   ┆ 2+4-5     ┆           ┆           ┆          │\n",
       "│           ┆           ┆           ┆ 13 \\) ?   ┆   ┆ \\]        ┆           ┆           ┆          │\n",
       "│           ┆           ┆           ┆           ┆   ┆ W…        ┆           ┆           ┆          │\n",
       "│ 0         ┆ Use the   ┆ BIDMAS    ┆ \\[        ┆ … ┆ Use the   ┆ B         ┆ 0_B       ┆ null     │\n",
       "│           ┆ order of  ┆           ┆ 3 \\times  ┆   ┆ order of  ┆           ┆           ┆          │\n",
       "│           ┆ operation ┆           ┆ 2+4-5     ┆   ┆ operation ┆           ┆           ┆          │\n",
       "│           ┆ s to      ┆           ┆ \\]        ┆   ┆ s to      ┆           ┆           ┆          │\n",
       "│           ┆ carry out ┆           ┆ Where do  ┆   ┆ carry out ┆           ┆           ┆          │\n",
       "│           ┆ calculati ┆           ┆ the       ┆   ┆ calculati ┆           ┆           ┆          │\n",
       "│           ┆ ons       ┆           ┆ brackets  ┆   ┆ ons       ┆           ┆           ┆          │\n",
       "│           ┆ involving ┆           ┆ need to   ┆   ┆ involving ┆           ┆           ┆          │\n",
       "│           ┆ powers    ┆           ┆ go to     ┆   ┆ powers    ┆           ┆           ┆          │\n",
       "│           ┆           ┆           ┆ make the  ┆   ┆ BIDMAS \\[ ┆           ┆           ┆          │\n",
       "│           ┆           ┆           ┆ answer    ┆   ┆ 3 \\times  ┆           ┆           ┆          │\n",
       "│           ┆           ┆           ┆ equal \\(  ┆   ┆ 2+4-5     ┆           ┆           ┆          │\n",
       "│           ┆           ┆           ┆ 13 \\) ?   ┆   ┆ \\]        ┆           ┆           ┆          │\n",
       "│           ┆           ┆           ┆           ┆   ┆ W…        ┆           ┆           ┆          │\n",
       "│ 0         ┆ Use the   ┆ BIDMAS    ┆ \\[        ┆ … ┆ Use the   ┆ C         ┆ 0_C       ┆ null     │\n",
       "│           ┆ order of  ┆           ┆ 3 \\times  ┆   ┆ order of  ┆           ┆           ┆          │\n",
       "│           ┆ operation ┆           ┆ 2+4-5     ┆   ┆ operation ┆           ┆           ┆          │\n",
       "│           ┆ s to      ┆           ┆ \\]        ┆   ┆ s to      ┆           ┆           ┆          │\n",
       "│           ┆ carry out ┆           ┆ Where do  ┆   ┆ carry out ┆           ┆           ┆          │\n",
       "│           ┆ calculati ┆           ┆ the       ┆   ┆ calculati ┆           ┆           ┆          │\n",
       "│           ┆ ons       ┆           ┆ brackets  ┆   ┆ ons       ┆           ┆           ┆          │\n",
       "│           ┆ involving ┆           ┆ need to   ┆   ┆ involving ┆           ┆           ┆          │\n",
       "│           ┆ powers    ┆           ┆ go to     ┆   ┆ powers    ┆           ┆           ┆          │\n",
       "│           ┆           ┆           ┆ make the  ┆   ┆ BIDMAS \\[ ┆           ┆           ┆          │\n",
       "│           ┆           ┆           ┆ answer    ┆   ┆ 3 \\times  ┆           ┆           ┆          │\n",
       "│           ┆           ┆           ┆ equal \\(  ┆   ┆ 2+4-5     ┆           ┆           ┆          │\n",
       "│           ┆           ┆           ┆ 13 \\) ?   ┆   ┆ \\]        ┆           ┆           ┆          │\n",
       "│           ┆           ┆           ┆           ┆   ┆ W…        ┆           ┆           ┆          │\n",
       "│ 0         ┆ Use the   ┆ BIDMAS    ┆ \\[        ┆ … ┆ Use the   ┆ D         ┆ 0_D       ┆ 1672     │\n",
       "│           ┆ order of  ┆           ┆ 3 \\times  ┆   ┆ order of  ┆           ┆           ┆          │\n",
       "│           ┆ operation ┆           ┆ 2+4-5     ┆   ┆ operation ┆           ┆           ┆          │\n",
       "│           ┆ s to      ┆           ┆ \\]        ┆   ┆ s to      ┆           ┆           ┆          │\n",
       "│           ┆ carry out ┆           ┆ Where do  ┆   ┆ carry out ┆           ┆           ┆          │\n",
       "│           ┆ calculati ┆           ┆ the       ┆   ┆ calculati ┆           ┆           ┆          │\n",
       "│           ┆ ons       ┆           ┆ brackets  ┆   ┆ ons       ┆           ┆           ┆          │\n",
       "│           ┆ involving ┆           ┆ need to   ┆   ┆ involving ┆           ┆           ┆          │\n",
       "│           ┆ powers    ┆           ┆ go to     ┆   ┆ powers    ┆           ┆           ┆          │\n",
       "│           ┆           ┆           ┆ make the  ┆   ┆ BIDMAS \\[ ┆           ┆           ┆          │\n",
       "│           ┆           ┆           ┆ answer    ┆   ┆ 3 \\times  ┆           ┆           ┆          │\n",
       "│           ┆           ┆           ┆ equal \\(  ┆   ┆ 2+4-5     ┆           ┆           ┆          │\n",
       "│           ┆           ┆           ┆ 13 \\) ?   ┆   ┆ \\]        ┆           ┆           ┆          │\n",
       "│           ┆           ┆           ┆           ┆   ┆ W…        ┆           ┆           ┆          │\n",
       "│ 1000      ┆ Simplify  ┆ Simplifyi ┆ Simplify  ┆ … ┆ Simplify  ┆ A         ┆ 1000_A    ┆ 891      │\n",
       "│           ┆ an        ┆ ng        ┆ the follo ┆   ┆ an        ┆           ┆           ┆          │\n",
       "│           ┆ algebraic ┆ Algebraic ┆ wing, if  ┆   ┆ algebraic ┆           ┆           ┆          │\n",
       "│           ┆ fraction  ┆ Fractions ┆ possible: ┆   ┆ fraction  ┆           ┆           ┆          │\n",
       "│           ┆ by factor ┆           ┆ \\( \\frac{ ┆   ┆ by factor ┆           ┆           ┆          │\n",
       "│           ┆ ising the ┆           ┆ 1-t}{t-1} ┆   ┆ ising the ┆           ┆           ┆          │\n",
       "│           ┆ numerator ┆           ┆ \\)        ┆   ┆ numerator ┆           ┆           ┆          │\n",
       "│           ┆           ┆           ┆           ┆   ┆ Simplifyi ┆           ┆           ┆          │\n",
       "│           ┆           ┆           ┆           ┆   ┆ ng        ┆           ┆           ┆          │\n",
       "│           ┆           ┆           ┆           ┆   ┆ Algebraic ┆           ┆           ┆          │\n",
       "│           ┆           ┆           ┆           ┆   ┆ Fractions ┆           ┆           ┆          │\n",
       "│           ┆           ┆           ┆           ┆   ┆ Simplify… ┆           ┆           ┆          │\n",
       "└───────────┴───────────┴───────────┴───────────┴───┴───────────┴───────────┴───────────┴──────────┘"
      ]
     },
     "execution_count": 22,
     "metadata": {},
     "output_type": "execute_result"
    }
   ],
   "source": [
    "train_long = train_long.join(train_misconception_long, on=\"QuestionId_Answer\")\n",
    "train_long.head()\n"
   ]
  },
  {
   "cell_type": "code",
   "execution_count": 23,
   "metadata": {},
   "outputs": [
    {
     "name": "stdout",
     "output_type": "stream",
     "text": [
      "(7476, 1024)\n",
      "(2587, 1024)\n"
     ]
    }
   ],
   "source": [
    "model = SentenceTransformer(MODEL_NAME)\n",
    "\n",
    "train_long_vec = model.encode(\n",
    "    train_long[\"AllText\"].to_list(), normalize_embeddings=True\n",
    ")\n",
    "misconception_mapping_vec = model.encode(\n",
    "    misconception_mapping[\"MisconceptionName\"].to_list(), normalize_embeddings=True\n",
    ")\n",
    "print(train_long_vec.shape)\n",
    "print(misconception_mapping_vec.shape)\n"
   ]
  },
  {
   "cell_type": "code",
   "execution_count": 24,
   "metadata": {},
   "outputs": [],
   "source": [
    "train_cos_sim_arr = cosine_similarity(train_long_vec, misconception_mapping_vec)\n",
    "train_sorted_indices = np.argsort(-train_cos_sim_arr, axis=1)\n"
   ]
  },
  {
   "cell_type": "code",
   "execution_count": 25,
   "metadata": {},
   "outputs": [],
   "source": [
    "train_long = train_long.with_columns(\n",
    "    pl.Series(train_sorted_indices[:, :RETRIEVE_NUM].tolist()).alias(\n",
    "        \"PredictMisconceptionId\"\n",
    "    )\n",
    ")\n"
   ]
  },
  {
   "cell_type": "code",
   "execution_count": 26,
   "metadata": {},
   "outputs": [
    {
     "data": {
      "text/plain": [
       "(109250, 14)"
      ]
     },
     "execution_count": 26,
     "metadata": {},
     "output_type": "execute_result"
    }
   ],
   "source": [
    "train_retrieved = (\n",
    "    train_long.filter(\n",
    "        pl.col(\n",
    "            \"MisconceptionId\"\n",
    "        ).is_not_null()  # TODO: Consider ways to utilize data where MisconceptionId is NaN.\n",
    "    )\n",
    "    .explode(\"PredictMisconceptionId\")\n",
    "    .join(\n",
    "        misconception_mapping,\n",
    "        on=\"MisconceptionId\",\n",
    "    )\n",
    "    .join(\n",
    "        misconception_mapping.rename(lambda x: \"Predict\" + x),\n",
    "        on=\"PredictMisconceptionId\",\n",
    "    )\n",
    ")\n",
    "train_retrieved.shape\n"
   ]
  },
  {
   "cell_type": "code",
   "execution_count": 27,
   "metadata": {},
   "outputs": [
    {
     "name": "stderr",
     "output_type": "stream",
     "text": [
      "Filter (num_proc=32): 100%|██████████| 109250/109250 [00:08<00:00, 12460.26 examples/s]\n"
     ]
    }
   ],
   "source": [
    "train = (\n",
    "    Dataset.from_polars(train_retrieved)\n",
    "    .filter(  # To create an anchor, positive, and negative structure, delete rows where the positive and negative are identical.\n",
    "        lambda example: example[\"MisconceptionId\"] != example[\"PredictMisconceptionId\"],\n",
    "        num_proc=NUM_PROC,\n",
    "    )\n",
    ")\n"
   ]
  },
  {
   "cell_type": "code",
   "execution_count": 28,
   "metadata": {},
   "outputs": [
    {
     "data": {
      "text/plain": [
       "Dataset({\n",
       "    features: ['QuestionId', 'ConstructName', 'SubjectName', 'QuestionText', 'CorrectAnswer', 'AnswerType', 'AnswerText', 'AllText', 'AnswerAlphabet', 'QuestionId_Answer', 'MisconceptionId', 'PredictMisconceptionId', 'MisconceptionName', 'PredictMisconceptionName'],\n",
       "    num_rows: 106844\n",
       "})"
      ]
     },
     "execution_count": 28,
     "metadata": {},
     "output_type": "execute_result"
    }
   ],
   "source": [
    "train\n"
   ]
  },
  {
   "cell_type": "code",
   "execution_count": 34,
   "metadata": {},
   "outputs": [
    {
     "name": "stderr",
     "output_type": "stream",
     "text": [
      "/root/my_kaggle_env/.venv/lib/python3.12/site-packages/sentence_transformers/trainer.py:205: FutureWarning: `tokenizer` is deprecated and will be removed in version 5.0.0 for `SentenceTransformerTrainer.__init__`. Use `processing_class` instead.\n",
      "  super().__init__(\n",
      "Detected kernel version 5.4.0, which is below the recommended minimum of 5.5.0; this can cause the process to hang. It is recommended to upgrade the kernel to the minimum version or higher.\n"
     ]
    },
    {
     "ename": "TypeError",
     "evalue": "SentenceTransformerTrainer.compute_loss() got an unexpected keyword argument 'num_items_in_batch'",
     "output_type": "error",
     "traceback": [
      "\u001b[0;31m---------------------------------------------------------------------------\u001b[0m",
      "\u001b[0;31mTypeError\u001b[0m                                 Traceback (most recent call last)",
      "Cell \u001b[0;32mIn[34], line 40\u001b[0m\n\u001b[1;32m      5\u001b[0m args \u001b[38;5;241m=\u001b[39m SentenceTransformerTrainingArguments(\n\u001b[1;32m      6\u001b[0m     \u001b[38;5;66;03m# Required parameter:\u001b[39;00m\n\u001b[1;32m      7\u001b[0m     output_dir\u001b[38;5;241m=\u001b[39mOUTPUT_PATH,\n\u001b[0;32m   (...)\u001b[0m\n\u001b[1;32m     28\u001b[0m     do_eval\u001b[38;5;241m=\u001b[39m\u001b[38;5;28;01mFalse\u001b[39;00m\n\u001b[1;32m     29\u001b[0m )\n\u001b[1;32m     31\u001b[0m trainer \u001b[38;5;241m=\u001b[39m SentenceTransformerTrainer(\n\u001b[1;32m     32\u001b[0m     model\u001b[38;5;241m=\u001b[39mmodel,\n\u001b[1;32m     33\u001b[0m     args\u001b[38;5;241m=\u001b[39margs,\n\u001b[0;32m   (...)\u001b[0m\n\u001b[1;32m     37\u001b[0m     loss\u001b[38;5;241m=\u001b[39mloss\n\u001b[1;32m     38\u001b[0m )\n\u001b[0;32m---> 40\u001b[0m \u001b[43mtrainer\u001b[49m\u001b[38;5;241;43m.\u001b[39;49m\u001b[43mtrain\u001b[49m\u001b[43m(\u001b[49m\u001b[43m)\u001b[49m\n\u001b[1;32m     41\u001b[0m model\u001b[38;5;241m.\u001b[39msave_pretrained(MODEL_OUTPUT_PATH)\n",
      "File \u001b[0;32m~/my_kaggle_env/.venv/lib/python3.12/site-packages/transformers/trainer.py:2123\u001b[0m, in \u001b[0;36mTrainer.train\u001b[0;34m(self, resume_from_checkpoint, trial, ignore_keys_for_eval, **kwargs)\u001b[0m\n\u001b[1;32m   2121\u001b[0m         hf_hub_utils\u001b[38;5;241m.\u001b[39menable_progress_bars()\n\u001b[1;32m   2122\u001b[0m \u001b[38;5;28;01melse\u001b[39;00m:\n\u001b[0;32m-> 2123\u001b[0m     \u001b[38;5;28;01mreturn\u001b[39;00m \u001b[43minner_training_loop\u001b[49m\u001b[43m(\u001b[49m\n\u001b[1;32m   2124\u001b[0m \u001b[43m        \u001b[49m\u001b[43margs\u001b[49m\u001b[38;5;241;43m=\u001b[39;49m\u001b[43margs\u001b[49m\u001b[43m,\u001b[49m\n\u001b[1;32m   2125\u001b[0m \u001b[43m        \u001b[49m\u001b[43mresume_from_checkpoint\u001b[49m\u001b[38;5;241;43m=\u001b[39;49m\u001b[43mresume_from_checkpoint\u001b[49m\u001b[43m,\u001b[49m\n\u001b[1;32m   2126\u001b[0m \u001b[43m        \u001b[49m\u001b[43mtrial\u001b[49m\u001b[38;5;241;43m=\u001b[39;49m\u001b[43mtrial\u001b[49m\u001b[43m,\u001b[49m\n\u001b[1;32m   2127\u001b[0m \u001b[43m        \u001b[49m\u001b[43mignore_keys_for_eval\u001b[49m\u001b[38;5;241;43m=\u001b[39;49m\u001b[43mignore_keys_for_eval\u001b[49m\u001b[43m,\u001b[49m\n\u001b[1;32m   2128\u001b[0m \u001b[43m    \u001b[49m\u001b[43m)\u001b[49m\n",
      "File \u001b[0;32m~/my_kaggle_env/.venv/lib/python3.12/site-packages/transformers/trainer.py:2481\u001b[0m, in \u001b[0;36mTrainer._inner_training_loop\u001b[0;34m(self, batch_size, args, resume_from_checkpoint, trial, ignore_keys_for_eval)\u001b[0m\n\u001b[1;32m   2475\u001b[0m context \u001b[38;5;241m=\u001b[39m (\n\u001b[1;32m   2476\u001b[0m     functools\u001b[38;5;241m.\u001b[39mpartial(\u001b[38;5;28mself\u001b[39m\u001b[38;5;241m.\u001b[39maccelerator\u001b[38;5;241m.\u001b[39mno_sync, model\u001b[38;5;241m=\u001b[39mmodel)\n\u001b[1;32m   2477\u001b[0m     \u001b[38;5;28;01mif\u001b[39;00m i \u001b[38;5;241m==\u001b[39m \u001b[38;5;28mlen\u001b[39m(batch_samples) \u001b[38;5;241m-\u001b[39m \u001b[38;5;241m1\u001b[39m\n\u001b[1;32m   2478\u001b[0m     \u001b[38;5;28;01melse\u001b[39;00m contextlib\u001b[38;5;241m.\u001b[39mnullcontext\n\u001b[1;32m   2479\u001b[0m )\n\u001b[1;32m   2480\u001b[0m \u001b[38;5;28;01mwith\u001b[39;00m context():\n\u001b[0;32m-> 2481\u001b[0m     tr_loss_step \u001b[38;5;241m=\u001b[39m \u001b[38;5;28;43mself\u001b[39;49m\u001b[38;5;241;43m.\u001b[39;49m\u001b[43mtraining_step\u001b[49m\u001b[43m(\u001b[49m\u001b[43mmodel\u001b[49m\u001b[43m,\u001b[49m\u001b[43m \u001b[49m\u001b[43minputs\u001b[49m\u001b[43m,\u001b[49m\u001b[43m \u001b[49m\u001b[43mnum_items_in_batch\u001b[49m\u001b[43m)\u001b[49m\n\u001b[1;32m   2483\u001b[0m \u001b[38;5;28;01mif\u001b[39;00m (\n\u001b[1;32m   2484\u001b[0m     args\u001b[38;5;241m.\u001b[39mlogging_nan_inf_filter\n\u001b[1;32m   2485\u001b[0m     \u001b[38;5;129;01mand\u001b[39;00m \u001b[38;5;129;01mnot\u001b[39;00m is_torch_xla_available()\n\u001b[1;32m   2486\u001b[0m     \u001b[38;5;129;01mand\u001b[39;00m (torch\u001b[38;5;241m.\u001b[39misnan(tr_loss_step) \u001b[38;5;129;01mor\u001b[39;00m torch\u001b[38;5;241m.\u001b[39misinf(tr_loss_step))\n\u001b[1;32m   2487\u001b[0m ):\n\u001b[1;32m   2488\u001b[0m     \u001b[38;5;66;03m# if loss is nan or inf simply add the average of previous logged losses\u001b[39;00m\n\u001b[1;32m   2489\u001b[0m     tr_loss \u001b[38;5;241m=\u001b[39m tr_loss \u001b[38;5;241m+\u001b[39m tr_loss \u001b[38;5;241m/\u001b[39m (\u001b[38;5;241m1\u001b[39m \u001b[38;5;241m+\u001b[39m \u001b[38;5;28mself\u001b[39m\u001b[38;5;241m.\u001b[39mstate\u001b[38;5;241m.\u001b[39mglobal_step \u001b[38;5;241m-\u001b[39m \u001b[38;5;28mself\u001b[39m\u001b[38;5;241m.\u001b[39m_globalstep_last_logged)\n",
      "File \u001b[0;32m~/my_kaggle_env/.venv/lib/python3.12/site-packages/transformers/trainer.py:3579\u001b[0m, in \u001b[0;36mTrainer.training_step\u001b[0;34m(self, model, inputs, num_items_in_batch)\u001b[0m\n\u001b[1;32m   3576\u001b[0m     \u001b[38;5;28;01mreturn\u001b[39;00m loss_mb\u001b[38;5;241m.\u001b[39mreduce_mean()\u001b[38;5;241m.\u001b[39mdetach()\u001b[38;5;241m.\u001b[39mto(\u001b[38;5;28mself\u001b[39m\u001b[38;5;241m.\u001b[39margs\u001b[38;5;241m.\u001b[39mdevice)\n\u001b[1;32m   3578\u001b[0m \u001b[38;5;28;01mwith\u001b[39;00m \u001b[38;5;28mself\u001b[39m\u001b[38;5;241m.\u001b[39mcompute_loss_context_manager():\n\u001b[0;32m-> 3579\u001b[0m     loss \u001b[38;5;241m=\u001b[39m \u001b[38;5;28;43mself\u001b[39;49m\u001b[38;5;241;43m.\u001b[39;49m\u001b[43mcompute_loss\u001b[49m\u001b[43m(\u001b[49m\u001b[43mmodel\u001b[49m\u001b[43m,\u001b[49m\u001b[43m \u001b[49m\u001b[43minputs\u001b[49m\u001b[43m,\u001b[49m\u001b[43m \u001b[49m\u001b[43mnum_items_in_batch\u001b[49m\u001b[38;5;241;43m=\u001b[39;49m\u001b[43mnum_items_in_batch\u001b[49m\u001b[43m)\u001b[49m\n\u001b[1;32m   3581\u001b[0m \u001b[38;5;28;01mdel\u001b[39;00m inputs\n\u001b[1;32m   3582\u001b[0m \u001b[38;5;28;01mif\u001b[39;00m (\n\u001b[1;32m   3583\u001b[0m     \u001b[38;5;28mself\u001b[39m\u001b[38;5;241m.\u001b[39margs\u001b[38;5;241m.\u001b[39mtorch_empty_cache_steps \u001b[38;5;129;01mis\u001b[39;00m \u001b[38;5;129;01mnot\u001b[39;00m \u001b[38;5;28;01mNone\u001b[39;00m\n\u001b[1;32m   3584\u001b[0m     \u001b[38;5;129;01mand\u001b[39;00m \u001b[38;5;28mself\u001b[39m\u001b[38;5;241m.\u001b[39mstate\u001b[38;5;241m.\u001b[39mglobal_step \u001b[38;5;241m%\u001b[39m \u001b[38;5;28mself\u001b[39m\u001b[38;5;241m.\u001b[39margs\u001b[38;5;241m.\u001b[39mtorch_empty_cache_steps \u001b[38;5;241m==\u001b[39m \u001b[38;5;241m0\u001b[39m\n\u001b[1;32m   3585\u001b[0m ):\n",
      "\u001b[0;31mTypeError\u001b[0m: SentenceTransformerTrainer.compute_loss() got an unexpected keyword argument 'num_items_in_batch'"
     ]
    }
   ],
   "source": [
    "model = SentenceTransformer(MODEL_NAME)\n",
    "\n",
    "loss = MultipleNegativesRankingLoss(model)\n",
    "\n",
    "args = SentenceTransformerTrainingArguments(\n",
    "    # Required parameter:\n",
    "    output_dir=OUTPUT_PATH,\n",
    "    # Optional training parameters:\n",
    "    num_train_epochs=EPOCH,\n",
    "    per_device_train_batch_size=BS,\n",
    "    gradient_accumulation_steps=GRAD_ACC_STEP,\n",
    "    per_device_eval_batch_size=BS,\n",
    "    eval_accumulation_steps=GRAD_ACC_STEP,\n",
    "    learning_rate=LR,\n",
    "    weight_decay=0.01,\n",
    "    warmup_ratio=0.1,\n",
    "    fp16=True,  # Set to False if you get an error that your GPU can't run on FP16\n",
    "    bf16=False,  # Set to True if you have a GPU that supports BF16\n",
    "    batch_sampler=BatchSamplers.NO_DUPLICATES,  # MultipleNegativesRankingLoss benefits from no duplicate samples in a batch\n",
    "    # Optional tracking/debugging parameters:\n",
    "    lr_scheduler_type=\"cosine_with_restarts\",\n",
    "    save_strategy=\"steps\",\n",
    "    save_steps=0.1,\n",
    "    save_total_limit=2,\n",
    "    logging_steps=100,\n",
    "    report_to=REPORT_TO,  # Will be used in W&B if `wandb` is installed\n",
    "    run_name=EXP_NAME,\n",
    "    do_eval=False\n",
    ")\n",
    "\n",
    "trainer = SentenceTransformerTrainer(\n",
    "    model=model,\n",
    "    args=args,\n",
    "    train_dataset=train.select_columns(\n",
    "        [\"AllText\", \"MisconceptionName\", \"PredictMisconceptionName\"]\n",
    "    ),\n",
    "    loss=loss\n",
    ")\n",
    "\n",
    "trainer.train()\n",
    "model.save_pretrained(MODEL_OUTPUT_PATH)\n"
   ]
  },
  {
   "cell_type": "code",
   "execution_count": null,
   "metadata": {},
   "outputs": [],
   "source": []
  }
 ],
 "metadata": {
  "kernelspec": {
   "display_name": ".venv",
   "language": "python",
   "name": "python3"
  },
  "language_info": {
   "codemirror_mode": {
    "name": "ipython",
    "version": 3
   },
   "file_extension": ".py",
   "mimetype": "text/x-python",
   "name": "python",
   "nbconvert_exporter": "python",
   "pygments_lexer": "ipython3",
   "version": "3.12.7"
  }
 },
 "nbformat": 4,
 "nbformat_minor": 2
}
