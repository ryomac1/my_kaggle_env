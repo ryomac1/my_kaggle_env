{
 "cells": [
  {
   "cell_type": "code",
   "execution_count": 1,
   "metadata": {},
   "outputs": [],
   "source": [
    "from pathlib import Path\n",
    "\n",
    "import numpy as np\n",
    "import polars as pl\n",
    "import seaborn as sns\n",
    "from hydra import compose, initialize\n",
    "from matplotlib import pyplot as plt\n",
    "\n",
    "\n",
    "pl.Config.set_fmt_str_lengths(100)\n",
    "\n",
    "with initialize(config_path=\"config\", version_base=None):\n",
    "    cfg = compose(config_name=\"config\")\n",
    "    cfg.exp_number = Path().resolve().name\n"
   ]
  },
  {
   "cell_type": "code",
   "execution_count": 2,
   "metadata": {},
   "outputs": [],
   "source": [
    "EXP_NAME = \"fine-tuning-bge\"\n",
    "DATA_PATH = \"/kaggle/input/eedi-mining-misconceptions-in-mathematics\"\n",
    "MODEL_NAME = \"BAAI/bge-large-en-v1.5\"\n",
    "COMPETITION_NAME = \"eedi-mining-misconceptions-in-mathematics\"\n",
    "OUTPUT_PATH = \".\"\n",
    "MODEL_OUTPUT_PATH = f\"{OUTPUT_PATH}/trained_model\"\n",
    "RETRIEVE_NUM = 25\n",
    "\n",
    "EPOCH = 2\n",
    "LR = 2e-05\n",
    "BS = 8\n",
    "GRAD_ACC_STEP = 128 // BS\n",
    "\n",
    "TRAINING = True\n",
    "DEBUG = False\n",
    "WANDB = False\n"
   ]
  },
  {
   "cell_type": "code",
   "execution_count": 3,
   "metadata": {},
   "outputs": [
    {
     "name": "stderr",
     "output_type": "stream",
     "text": [
      "/root/my_kaggle_env/.venv/lib/python3.12/site-packages/tqdm/auto.py:21: TqdmWarning: IProgress not found. Please update jupyter and ipywidgets. See https://ipywidgets.readthedocs.io/en/stable/user_install.html\n",
      "  from .autonotebook import tqdm as notebook_tqdm\n"
     ]
    }
   ],
   "source": [
    "import os\n",
    "import numpy as np\n",
    "\n",
    "from datasets import load_dataset, Dataset\n",
    "\n",
    "import polars as pl\n",
    "\n",
    "from sklearn.metrics.pairwise import cosine_similarity\n",
    "\n",
    "from sentence_transformers.losses import MultipleNegativesRankingLoss\n",
    "from sentence_transformers import (\n",
    "    SentenceTransformer,\n",
    "    SentenceTransformerTrainer,\n",
    "    SentenceTransformerTrainingArguments,\n",
    ")\n",
    "from sentence_transformers.training_args import BatchSamplers\n",
    "from sentence_transformers.evaluation import TripletEvaluator\n"
   ]
  },
  {
   "cell_type": "code",
   "execution_count": 4,
   "metadata": {},
   "outputs": [],
   "source": [
    "import datasets\n",
    "import sentence_transformers\n"
   ]
  },
  {
   "cell_type": "code",
   "execution_count": 5,
   "metadata": {},
   "outputs": [
    {
     "data": {
      "text/plain": [
       "32"
      ]
     },
     "execution_count": 5,
     "metadata": {},
     "output_type": "execute_result"
    }
   ],
   "source": [
    "NUM_PROC = os.cpu_count()\n",
    "NUM_PROC\n"
   ]
  },
  {
   "cell_type": "code",
   "execution_count": 6,
   "metadata": {},
   "outputs": [
    {
     "data": {
      "text/plain": [
       "'none'"
      ]
     },
     "execution_count": 6,
     "metadata": {},
     "output_type": "execute_result"
    }
   ],
   "source": [
    "if WANDB:\n",
    "    # Settings -> add wandb api\n",
    "    from kaggle_secrets import UserSecretsClient\n",
    "    user_secrets = UserSecretsClient()\n",
    "    wandb.login(key=user_secrets.get_secret(\"wandb_api\"))\n",
    "    wandb.init(project=COMPETITION_NAME, name=EXP_NAME)\n",
    "    REPORT_TO = \"wandb\"\n",
    "else:\n",
    "    REPORT_TO = \"none\"\n",
    "\n",
    "REPORT_TO\n"
   ]
  },
  {
   "cell_type": "code",
   "execution_count": 7,
   "metadata": {},
   "outputs": [],
   "source": [
    "train = pl.read_csv(cfg.path.train, try_parse_dates=True)\n",
    "test = pl.read_csv(cfg.path.test, try_parse_dates=True)\n",
    "misconception_mapping = pl.read_csv(cfg.path.misconception_mapping, try_parse_dates=True)\n"
   ]
  },
  {
   "cell_type": "code",
   "execution_count": 8,
   "metadata": {},
   "outputs": [
    {
     "data": {
      "text/html": [
       "<div><style>\n",
       ".dataframe > thead > tr,\n",
       ".dataframe > tbody > tr {\n",
       "  text-align: right;\n",
       "  white-space: pre-wrap;\n",
       "}\n",
       "</style>\n",
       "<small>shape: (5, 10)</small><table border=\"1\" class=\"dataframe\"><thead><tr><th>QuestionId</th><th>ConstructName</th><th>SubjectName</th><th>QuestionText</th><th>CorrectAnswer</th><th>AnswerType</th><th>AnswerText</th><th>AllText</th><th>AnswerAlphabet</th><th>QuestionId_Answer</th></tr><tr><td>i64</td><td>str</td><td>str</td><td>str</td><td>str</td><td>str</td><td>str</td><td>str</td><td>str</td><td>str</td></tr></thead><tbody><tr><td>0</td><td>&quot;Use the order of operations to carry out calculations involving powers&quot;</td><td>&quot;BIDMAS&quot;</td><td>&quot;\\[\n",
       "3 \\times 2+4-5\n",
       "\\]\n",
       "Where do the brackets need to go to make the answer equal \\( 13 \\) ?&quot;</td><td>&quot;A&quot;</td><td>&quot;AnswerAText&quot;</td><td>&quot;\\( 3 \\times(2+4)-5 \\)&quot;</td><td>&quot;Use the order of operations to carry out calculations involving powers BIDMAS \\[\n",
       "3 \\times 2+4-5\n",
       "\\]\n",
       "W…</td><td>&quot;A&quot;</td><td>&quot;0_A&quot;</td></tr><tr><td>0</td><td>&quot;Use the order of operations to carry out calculations involving powers&quot;</td><td>&quot;BIDMAS&quot;</td><td>&quot;\\[\n",
       "3 \\times 2+4-5\n",
       "\\]\n",
       "Where do the brackets need to go to make the answer equal \\( 13 \\) ?&quot;</td><td>&quot;A&quot;</td><td>&quot;AnswerBText&quot;</td><td>&quot;\\( 3 \\times 2+(4-5) \\)&quot;</td><td>&quot;Use the order of operations to carry out calculations involving powers BIDMAS \\[\n",
       "3 \\times 2+4-5\n",
       "\\]\n",
       "W…</td><td>&quot;B&quot;</td><td>&quot;0_B&quot;</td></tr><tr><td>0</td><td>&quot;Use the order of operations to carry out calculations involving powers&quot;</td><td>&quot;BIDMAS&quot;</td><td>&quot;\\[\n",
       "3 \\times 2+4-5\n",
       "\\]\n",
       "Where do the brackets need to go to make the answer equal \\( 13 \\) ?&quot;</td><td>&quot;A&quot;</td><td>&quot;AnswerCText&quot;</td><td>&quot;\\( 3 \\times(2+4-5) \\)&quot;</td><td>&quot;Use the order of operations to carry out calculations involving powers BIDMAS \\[\n",
       "3 \\times 2+4-5\n",
       "\\]\n",
       "W…</td><td>&quot;C&quot;</td><td>&quot;0_C&quot;</td></tr><tr><td>0</td><td>&quot;Use the order of operations to carry out calculations involving powers&quot;</td><td>&quot;BIDMAS&quot;</td><td>&quot;\\[\n",
       "3 \\times 2+4-5\n",
       "\\]\n",
       "Where do the brackets need to go to make the answer equal \\( 13 \\) ?&quot;</td><td>&quot;A&quot;</td><td>&quot;AnswerDText&quot;</td><td>&quot;Does not need brackets&quot;</td><td>&quot;Use the order of operations to carry out calculations involving powers BIDMAS \\[\n",
       "3 \\times 2+4-5\n",
       "\\]\n",
       "W…</td><td>&quot;D&quot;</td><td>&quot;0_D&quot;</td></tr><tr><td>1000</td><td>&quot;Simplify an algebraic fraction by factorising the numerator&quot;</td><td>&quot;Simplifying Algebraic Fractions&quot;</td><td>&quot;Simplify the following, if possible: \\( \\frac{1-t}{t-1} \\)&quot;</td><td>&quot;B&quot;</td><td>&quot;AnswerAText&quot;</td><td>&quot;\\( t \\)&quot;</td><td>&quot;Simplify an algebraic fraction by factorising the numerator Simplifying Algebraic Fractions Simplify…</td><td>&quot;A&quot;</td><td>&quot;1000_A&quot;</td></tr></tbody></table></div>"
      ],
      "text/plain": [
       "shape: (5, 10)\n",
       "┌───────────┬───────────┬───────────┬───────────┬───┬───────────┬───────────┬───────────┬──────────┐\n",
       "│ QuestionI ┆ Construct ┆ SubjectNa ┆ QuestionT ┆ … ┆ AnswerTex ┆ AllText   ┆ AnswerAlp ┆ Question │\n",
       "│ d         ┆ Name      ┆ me        ┆ ext       ┆   ┆ t         ┆ ---       ┆ habet     ┆ Id_Answe │\n",
       "│ ---       ┆ ---       ┆ ---       ┆ ---       ┆   ┆ ---       ┆ str       ┆ ---       ┆ r        │\n",
       "│ i64       ┆ str       ┆ str       ┆ str       ┆   ┆ str       ┆           ┆ str       ┆ ---      │\n",
       "│           ┆           ┆           ┆           ┆   ┆           ┆           ┆           ┆ str      │\n",
       "╞═══════════╪═══════════╪═══════════╪═══════════╪═══╪═══════════╪═══════════╪═══════════╪══════════╡\n",
       "│ 0         ┆ Use the   ┆ BIDMAS    ┆ \\[        ┆ … ┆ \\( 3 \\tim ┆ Use the   ┆ A         ┆ 0_A      │\n",
       "│           ┆ order of  ┆           ┆ 3 \\times  ┆   ┆ es(2+4)-5 ┆ order of  ┆           ┆          │\n",
       "│           ┆ operation ┆           ┆ 2+4-5     ┆   ┆ \\)        ┆ operation ┆           ┆          │\n",
       "│           ┆ s to      ┆           ┆ \\]        ┆   ┆           ┆ s to      ┆           ┆          │\n",
       "│           ┆ carry out ┆           ┆ Where do  ┆   ┆           ┆ carry out ┆           ┆          │\n",
       "│           ┆ calculati ┆           ┆ the       ┆   ┆           ┆ calculati ┆           ┆          │\n",
       "│           ┆ ons       ┆           ┆ brackets  ┆   ┆           ┆ ons       ┆           ┆          │\n",
       "│           ┆ involving ┆           ┆ need to   ┆   ┆           ┆ involving ┆           ┆          │\n",
       "│           ┆ powers    ┆           ┆ go to     ┆   ┆           ┆ powers    ┆           ┆          │\n",
       "│           ┆           ┆           ┆ make the  ┆   ┆           ┆ BIDMAS \\[ ┆           ┆          │\n",
       "│           ┆           ┆           ┆ answer    ┆   ┆           ┆ 3 \\times  ┆           ┆          │\n",
       "│           ┆           ┆           ┆ equal \\(  ┆   ┆           ┆ 2+4-5     ┆           ┆          │\n",
       "│           ┆           ┆           ┆ 13 \\) ?   ┆   ┆           ┆ \\]        ┆           ┆          │\n",
       "│           ┆           ┆           ┆           ┆   ┆           ┆ W…        ┆           ┆          │\n",
       "│ 0         ┆ Use the   ┆ BIDMAS    ┆ \\[        ┆ … ┆ \\( 3      ┆ Use the   ┆ B         ┆ 0_B      │\n",
       "│           ┆ order of  ┆           ┆ 3 \\times  ┆   ┆ \\times    ┆ order of  ┆           ┆          │\n",
       "│           ┆ operation ┆           ┆ 2+4-5     ┆   ┆ 2+(4-5)   ┆ operation ┆           ┆          │\n",
       "│           ┆ s to      ┆           ┆ \\]        ┆   ┆ \\)        ┆ s to      ┆           ┆          │\n",
       "│           ┆ carry out ┆           ┆ Where do  ┆   ┆           ┆ carry out ┆           ┆          │\n",
       "│           ┆ calculati ┆           ┆ the       ┆   ┆           ┆ calculati ┆           ┆          │\n",
       "│           ┆ ons       ┆           ┆ brackets  ┆   ┆           ┆ ons       ┆           ┆          │\n",
       "│           ┆ involving ┆           ┆ need to   ┆   ┆           ┆ involving ┆           ┆          │\n",
       "│           ┆ powers    ┆           ┆ go to     ┆   ┆           ┆ powers    ┆           ┆          │\n",
       "│           ┆           ┆           ┆ make the  ┆   ┆           ┆ BIDMAS \\[ ┆           ┆          │\n",
       "│           ┆           ┆           ┆ answer    ┆   ┆           ┆ 3 \\times  ┆           ┆          │\n",
       "│           ┆           ┆           ┆ equal \\(  ┆   ┆           ┆ 2+4-5     ┆           ┆          │\n",
       "│           ┆           ┆           ┆ 13 \\) ?   ┆   ┆           ┆ \\]        ┆           ┆          │\n",
       "│           ┆           ┆           ┆           ┆   ┆           ┆ W…        ┆           ┆          │\n",
       "│ 0         ┆ Use the   ┆ BIDMAS    ┆ \\[        ┆ … ┆ \\( 3 \\tim ┆ Use the   ┆ C         ┆ 0_C      │\n",
       "│           ┆ order of  ┆           ┆ 3 \\times  ┆   ┆ es(2+4-5) ┆ order of  ┆           ┆          │\n",
       "│           ┆ operation ┆           ┆ 2+4-5     ┆   ┆ \\)        ┆ operation ┆           ┆          │\n",
       "│           ┆ s to      ┆           ┆ \\]        ┆   ┆           ┆ s to      ┆           ┆          │\n",
       "│           ┆ carry out ┆           ┆ Where do  ┆   ┆           ┆ carry out ┆           ┆          │\n",
       "│           ┆ calculati ┆           ┆ the       ┆   ┆           ┆ calculati ┆           ┆          │\n",
       "│           ┆ ons       ┆           ┆ brackets  ┆   ┆           ┆ ons       ┆           ┆          │\n",
       "│           ┆ involving ┆           ┆ need to   ┆   ┆           ┆ involving ┆           ┆          │\n",
       "│           ┆ powers    ┆           ┆ go to     ┆   ┆           ┆ powers    ┆           ┆          │\n",
       "│           ┆           ┆           ┆ make the  ┆   ┆           ┆ BIDMAS \\[ ┆           ┆          │\n",
       "│           ┆           ┆           ┆ answer    ┆   ┆           ┆ 3 \\times  ┆           ┆          │\n",
       "│           ┆           ┆           ┆ equal \\(  ┆   ┆           ┆ 2+4-5     ┆           ┆          │\n",
       "│           ┆           ┆           ┆ 13 \\) ?   ┆   ┆           ┆ \\]        ┆           ┆          │\n",
       "│           ┆           ┆           ┆           ┆   ┆           ┆ W…        ┆           ┆          │\n",
       "│ 0         ┆ Use the   ┆ BIDMAS    ┆ \\[        ┆ … ┆ Does not  ┆ Use the   ┆ D         ┆ 0_D      │\n",
       "│           ┆ order of  ┆           ┆ 3 \\times  ┆   ┆ need      ┆ order of  ┆           ┆          │\n",
       "│           ┆ operation ┆           ┆ 2+4-5     ┆   ┆ brackets  ┆ operation ┆           ┆          │\n",
       "│           ┆ s to      ┆           ┆ \\]        ┆   ┆           ┆ s to      ┆           ┆          │\n",
       "│           ┆ carry out ┆           ┆ Where do  ┆   ┆           ┆ carry out ┆           ┆          │\n",
       "│           ┆ calculati ┆           ┆ the       ┆   ┆           ┆ calculati ┆           ┆          │\n",
       "│           ┆ ons       ┆           ┆ brackets  ┆   ┆           ┆ ons       ┆           ┆          │\n",
       "│           ┆ involving ┆           ┆ need to   ┆   ┆           ┆ involving ┆           ┆          │\n",
       "│           ┆ powers    ┆           ┆ go to     ┆   ┆           ┆ powers    ┆           ┆          │\n",
       "│           ┆           ┆           ┆ make the  ┆   ┆           ┆ BIDMAS \\[ ┆           ┆          │\n",
       "│           ┆           ┆           ┆ answer    ┆   ┆           ┆ 3 \\times  ┆           ┆          │\n",
       "│           ┆           ┆           ┆ equal \\(  ┆   ┆           ┆ 2+4-5     ┆           ┆          │\n",
       "│           ┆           ┆           ┆ 13 \\) ?   ┆   ┆           ┆ \\]        ┆           ┆          │\n",
       "│           ┆           ┆           ┆           ┆   ┆           ┆ W…        ┆           ┆          │\n",
       "│ 1000      ┆ Simplify  ┆ Simplifyi ┆ Simplify  ┆ … ┆ \\( t \\)   ┆ Simplify  ┆ A         ┆ 1000_A   │\n",
       "│           ┆ an        ┆ ng        ┆ the follo ┆   ┆           ┆ an        ┆           ┆          │\n",
       "│           ┆ algebraic ┆ Algebraic ┆ wing, if  ┆   ┆           ┆ algebraic ┆           ┆          │\n",
       "│           ┆ fraction  ┆ Fractions ┆ possible: ┆   ┆           ┆ fraction  ┆           ┆          │\n",
       "│           ┆ by factor ┆           ┆ \\( \\frac{ ┆   ┆           ┆ by factor ┆           ┆          │\n",
       "│           ┆ ising the ┆           ┆ 1-t}{t-1} ┆   ┆           ┆ ising the ┆           ┆          │\n",
       "│           ┆ numerator ┆           ┆ \\)        ┆   ┆           ┆ numerator ┆           ┆          │\n",
       "│           ┆           ┆           ┆           ┆   ┆           ┆ Simplifyi ┆           ┆          │\n",
       "│           ┆           ┆           ┆           ┆   ┆           ┆ ng        ┆           ┆          │\n",
       "│           ┆           ┆           ┆           ┆   ┆           ┆ Algebraic ┆           ┆          │\n",
       "│           ┆           ┆           ┆           ┆   ┆           ┆ Fractions ┆           ┆          │\n",
       "│           ┆           ┆           ┆           ┆   ┆           ┆ Simplify… ┆           ┆          │\n",
       "└───────────┴───────────┴───────────┴───────────┴───┴───────────┴───────────┴───────────┴──────────┘"
      ]
     },
     "execution_count": 8,
     "metadata": {},
     "output_type": "execute_result"
    }
   ],
   "source": [
    "common_col = [\n",
    "    \"QuestionId\",\n",
    "    \"ConstructName\",\n",
    "    \"SubjectName\",\n",
    "    \"QuestionText\",\n",
    "    \"CorrectAnswer\",\n",
    "]\n",
    "\n",
    "train_long = (\n",
    "    train\n",
    "    .select(\n",
    "        pl.col(common_col + [f\"Answer{alpha}Text\" for alpha in [\"A\", \"B\", \"C\", \"D\"]])\n",
    "    )\n",
    "    .unpivot(\n",
    "        index=common_col,\n",
    "        variable_name=\"AnswerType\",\n",
    "        value_name=\"AnswerText\",\n",
    "    )\n",
    "    .with_columns(\n",
    "        pl.concat_str(\n",
    "            [\n",
    "                pl.col(\"ConstructName\"),\n",
    "                pl.col(\"SubjectName\"),\n",
    "                pl.col(\"QuestionText\"),\n",
    "                pl.col(\"AnswerText\"),\n",
    "            ],\n",
    "            separator=\" \",\n",
    "        ).alias(\"AllText\"),\n",
    "        pl.col(\"AnswerType\").str.extract(r\"Answer([A-D])Text$\").alias(\"AnswerAlphabet\"),\n",
    "    )\n",
    "    .with_columns(\n",
    "        pl.concat_str(\n",
    "            [pl.col(\"QuestionId\"), pl.col(\"AnswerAlphabet\")], separator=\"_\"\n",
    "        ).alias(\"QuestionId_Answer\"),\n",
    "    )\n",
    "    .sort(\"QuestionId_Answer\")\n",
    ")\n",
    "train_long.head()\n"
   ]
  },
  {
   "cell_type": "code",
   "execution_count": 9,
   "metadata": {},
   "outputs": [
    {
     "data": {
      "text/html": [
       "<div><style>\n",
       ".dataframe > thead > tr,\n",
       ".dataframe > tbody > tr {\n",
       "  text-align: right;\n",
       "  white-space: pre-wrap;\n",
       "}\n",
       "</style>\n",
       "<small>shape: (5, 2)</small><table border=\"1\" class=\"dataframe\"><thead><tr><th>QuestionId_Answer</th><th>MisconceptionId</th></tr><tr><td>str</td><td>i64</td></tr></thead><tbody><tr><td>&quot;0_A&quot;</td><td>null</td></tr><tr><td>&quot;0_B&quot;</td><td>null</td></tr><tr><td>&quot;0_C&quot;</td><td>null</td></tr><tr><td>&quot;0_D&quot;</td><td>1672</td></tr><tr><td>&quot;1000_A&quot;</td><td>891</td></tr></tbody></table></div>"
      ],
      "text/plain": [
       "shape: (5, 2)\n",
       "┌───────────────────┬─────────────────┐\n",
       "│ QuestionId_Answer ┆ MisconceptionId │\n",
       "│ ---               ┆ ---             │\n",
       "│ str               ┆ i64             │\n",
       "╞═══════════════════╪═════════════════╡\n",
       "│ 0_A               ┆ null            │\n",
       "│ 0_B               ┆ null            │\n",
       "│ 0_C               ┆ null            │\n",
       "│ 0_D               ┆ 1672            │\n",
       "│ 1000_A            ┆ 891             │\n",
       "└───────────────────┴─────────────────┘"
      ]
     },
     "execution_count": 9,
     "metadata": {},
     "output_type": "execute_result"
    }
   ],
   "source": [
    "train_misconception_long = (\n",
    "    train.select(\n",
    "        pl.col(\n",
    "            common_col + [f\"Misconception{alpha}Id\" for alpha in [\"A\", \"B\", \"C\", \"D\"]]\n",
    "        )\n",
    "    )\n",
    "    .unpivot(\n",
    "        index=common_col,\n",
    "        variable_name=\"MisconceptionType\",\n",
    "        value_name=\"MisconceptionId\",\n",
    "    )\n",
    "    .with_columns(\n",
    "        pl.col(\"MisconceptionType\")\n",
    "        .str.extract(r\"Misconception([A-D])Id$\")\n",
    "        .alias(\"AnswerAlphabet\"),\n",
    "    )\n",
    "    .with_columns(\n",
    "        pl.concat_str(\n",
    "            [pl.col(\"QuestionId\"), pl.col(\"AnswerAlphabet\")], separator=\"_\"\n",
    "        ).alias(\"QuestionId_Answer\"),\n",
    "    )\n",
    "    .sort(\"QuestionId_Answer\")\n",
    "    .select(pl.col([\"QuestionId_Answer\", \"MisconceptionId\"]))\n",
    "    .with_columns(pl.col(\"MisconceptionId\").cast(pl.Int64))\n",
    ")\n",
    "\n",
    "train_misconception_long.head()\n"
   ]
  },
  {
   "cell_type": "code",
   "execution_count": 10,
   "metadata": {},
   "outputs": [
    {
     "data": {
      "text/html": [
       "<div><style>\n",
       ".dataframe > thead > tr,\n",
       ".dataframe > tbody > tr {\n",
       "  text-align: right;\n",
       "  white-space: pre-wrap;\n",
       "}\n",
       "</style>\n",
       "<small>shape: (5, 11)</small><table border=\"1\" class=\"dataframe\"><thead><tr><th>QuestionId</th><th>ConstructName</th><th>SubjectName</th><th>QuestionText</th><th>CorrectAnswer</th><th>AnswerType</th><th>AnswerText</th><th>AllText</th><th>AnswerAlphabet</th><th>QuestionId_Answer</th><th>MisconceptionId</th></tr><tr><td>i64</td><td>str</td><td>str</td><td>str</td><td>str</td><td>str</td><td>str</td><td>str</td><td>str</td><td>str</td><td>i64</td></tr></thead><tbody><tr><td>0</td><td>&quot;Use the order of operations to carry out calculations involving powers&quot;</td><td>&quot;BIDMAS&quot;</td><td>&quot;\\[\n",
       "3 \\times 2+4-5\n",
       "\\]\n",
       "Where do the brackets need to go to make the answer equal \\( 13 \\) ?&quot;</td><td>&quot;A&quot;</td><td>&quot;AnswerAText&quot;</td><td>&quot;\\( 3 \\times(2+4)-5 \\)&quot;</td><td>&quot;Use the order of operations to carry out calculations involving powers BIDMAS \\[\n",
       "3 \\times 2+4-5\n",
       "\\]\n",
       "W…</td><td>&quot;A&quot;</td><td>&quot;0_A&quot;</td><td>null</td></tr><tr><td>0</td><td>&quot;Use the order of operations to carry out calculations involving powers&quot;</td><td>&quot;BIDMAS&quot;</td><td>&quot;\\[\n",
       "3 \\times 2+4-5\n",
       "\\]\n",
       "Where do the brackets need to go to make the answer equal \\( 13 \\) ?&quot;</td><td>&quot;A&quot;</td><td>&quot;AnswerBText&quot;</td><td>&quot;\\( 3 \\times 2+(4-5) \\)&quot;</td><td>&quot;Use the order of operations to carry out calculations involving powers BIDMAS \\[\n",
       "3 \\times 2+4-5\n",
       "\\]\n",
       "W…</td><td>&quot;B&quot;</td><td>&quot;0_B&quot;</td><td>null</td></tr><tr><td>0</td><td>&quot;Use the order of operations to carry out calculations involving powers&quot;</td><td>&quot;BIDMAS&quot;</td><td>&quot;\\[\n",
       "3 \\times 2+4-5\n",
       "\\]\n",
       "Where do the brackets need to go to make the answer equal \\( 13 \\) ?&quot;</td><td>&quot;A&quot;</td><td>&quot;AnswerCText&quot;</td><td>&quot;\\( 3 \\times(2+4-5) \\)&quot;</td><td>&quot;Use the order of operations to carry out calculations involving powers BIDMAS \\[\n",
       "3 \\times 2+4-5\n",
       "\\]\n",
       "W…</td><td>&quot;C&quot;</td><td>&quot;0_C&quot;</td><td>null</td></tr><tr><td>0</td><td>&quot;Use the order of operations to carry out calculations involving powers&quot;</td><td>&quot;BIDMAS&quot;</td><td>&quot;\\[\n",
       "3 \\times 2+4-5\n",
       "\\]\n",
       "Where do the brackets need to go to make the answer equal \\( 13 \\) ?&quot;</td><td>&quot;A&quot;</td><td>&quot;AnswerDText&quot;</td><td>&quot;Does not need brackets&quot;</td><td>&quot;Use the order of operations to carry out calculations involving powers BIDMAS \\[\n",
       "3 \\times 2+4-5\n",
       "\\]\n",
       "W…</td><td>&quot;D&quot;</td><td>&quot;0_D&quot;</td><td>1672</td></tr><tr><td>1000</td><td>&quot;Simplify an algebraic fraction by factorising the numerator&quot;</td><td>&quot;Simplifying Algebraic Fractions&quot;</td><td>&quot;Simplify the following, if possible: \\( \\frac{1-t}{t-1} \\)&quot;</td><td>&quot;B&quot;</td><td>&quot;AnswerAText&quot;</td><td>&quot;\\( t \\)&quot;</td><td>&quot;Simplify an algebraic fraction by factorising the numerator Simplifying Algebraic Fractions Simplify…</td><td>&quot;A&quot;</td><td>&quot;1000_A&quot;</td><td>891</td></tr></tbody></table></div>"
      ],
      "text/plain": [
       "shape: (5, 11)\n",
       "┌───────────┬───────────┬───────────┬───────────┬───┬───────────┬───────────┬───────────┬──────────┐\n",
       "│ QuestionI ┆ Construct ┆ SubjectNa ┆ QuestionT ┆ … ┆ AllText   ┆ AnswerAlp ┆ QuestionI ┆ Misconce │\n",
       "│ d         ┆ Name      ┆ me        ┆ ext       ┆   ┆ ---       ┆ habet     ┆ d_Answer  ┆ ptionId  │\n",
       "│ ---       ┆ ---       ┆ ---       ┆ ---       ┆   ┆ str       ┆ ---       ┆ ---       ┆ ---      │\n",
       "│ i64       ┆ str       ┆ str       ┆ str       ┆   ┆           ┆ str       ┆ str       ┆ i64      │\n",
       "╞═══════════╪═══════════╪═══════════╪═══════════╪═══╪═══════════╪═══════════╪═══════════╪══════════╡\n",
       "│ 0         ┆ Use the   ┆ BIDMAS    ┆ \\[        ┆ … ┆ Use the   ┆ A         ┆ 0_A       ┆ null     │\n",
       "│           ┆ order of  ┆           ┆ 3 \\times  ┆   ┆ order of  ┆           ┆           ┆          │\n",
       "│           ┆ operation ┆           ┆ 2+4-5     ┆   ┆ operation ┆           ┆           ┆          │\n",
       "│           ┆ s to      ┆           ┆ \\]        ┆   ┆ s to      ┆           ┆           ┆          │\n",
       "│           ┆ carry out ┆           ┆ Where do  ┆   ┆ carry out ┆           ┆           ┆          │\n",
       "│           ┆ calculati ┆           ┆ the       ┆   ┆ calculati ┆           ┆           ┆          │\n",
       "│           ┆ ons       ┆           ┆ brackets  ┆   ┆ ons       ┆           ┆           ┆          │\n",
       "│           ┆ involving ┆           ┆ need to   ┆   ┆ involving ┆           ┆           ┆          │\n",
       "│           ┆ powers    ┆           ┆ go to     ┆   ┆ powers    ┆           ┆           ┆          │\n",
       "│           ┆           ┆           ┆ make the  ┆   ┆ BIDMAS \\[ ┆           ┆           ┆          │\n",
       "│           ┆           ┆           ┆ answer    ┆   ┆ 3 \\times  ┆           ┆           ┆          │\n",
       "│           ┆           ┆           ┆ equal \\(  ┆   ┆ 2+4-5     ┆           ┆           ┆          │\n",
       "│           ┆           ┆           ┆ 13 \\) ?   ┆   ┆ \\]        ┆           ┆           ┆          │\n",
       "│           ┆           ┆           ┆           ┆   ┆ W…        ┆           ┆           ┆          │\n",
       "│ 0         ┆ Use the   ┆ BIDMAS    ┆ \\[        ┆ … ┆ Use the   ┆ B         ┆ 0_B       ┆ null     │\n",
       "│           ┆ order of  ┆           ┆ 3 \\times  ┆   ┆ order of  ┆           ┆           ┆          │\n",
       "│           ┆ operation ┆           ┆ 2+4-5     ┆   ┆ operation ┆           ┆           ┆          │\n",
       "│           ┆ s to      ┆           ┆ \\]        ┆   ┆ s to      ┆           ┆           ┆          │\n",
       "│           ┆ carry out ┆           ┆ Where do  ┆   ┆ carry out ┆           ┆           ┆          │\n",
       "│           ┆ calculati ┆           ┆ the       ┆   ┆ calculati ┆           ┆           ┆          │\n",
       "│           ┆ ons       ┆           ┆ brackets  ┆   ┆ ons       ┆           ┆           ┆          │\n",
       "│           ┆ involving ┆           ┆ need to   ┆   ┆ involving ┆           ┆           ┆          │\n",
       "│           ┆ powers    ┆           ┆ go to     ┆   ┆ powers    ┆           ┆           ┆          │\n",
       "│           ┆           ┆           ┆ make the  ┆   ┆ BIDMAS \\[ ┆           ┆           ┆          │\n",
       "│           ┆           ┆           ┆ answer    ┆   ┆ 3 \\times  ┆           ┆           ┆          │\n",
       "│           ┆           ┆           ┆ equal \\(  ┆   ┆ 2+4-5     ┆           ┆           ┆          │\n",
       "│           ┆           ┆           ┆ 13 \\) ?   ┆   ┆ \\]        ┆           ┆           ┆          │\n",
       "│           ┆           ┆           ┆           ┆   ┆ W…        ┆           ┆           ┆          │\n",
       "│ 0         ┆ Use the   ┆ BIDMAS    ┆ \\[        ┆ … ┆ Use the   ┆ C         ┆ 0_C       ┆ null     │\n",
       "│           ┆ order of  ┆           ┆ 3 \\times  ┆   ┆ order of  ┆           ┆           ┆          │\n",
       "│           ┆ operation ┆           ┆ 2+4-5     ┆   ┆ operation ┆           ┆           ┆          │\n",
       "│           ┆ s to      ┆           ┆ \\]        ┆   ┆ s to      ┆           ┆           ┆          │\n",
       "│           ┆ carry out ┆           ┆ Where do  ┆   ┆ carry out ┆           ┆           ┆          │\n",
       "│           ┆ calculati ┆           ┆ the       ┆   ┆ calculati ┆           ┆           ┆          │\n",
       "│           ┆ ons       ┆           ┆ brackets  ┆   ┆ ons       ┆           ┆           ┆          │\n",
       "│           ┆ involving ┆           ┆ need to   ┆   ┆ involving ┆           ┆           ┆          │\n",
       "│           ┆ powers    ┆           ┆ go to     ┆   ┆ powers    ┆           ┆           ┆          │\n",
       "│           ┆           ┆           ┆ make the  ┆   ┆ BIDMAS \\[ ┆           ┆           ┆          │\n",
       "│           ┆           ┆           ┆ answer    ┆   ┆ 3 \\times  ┆           ┆           ┆          │\n",
       "│           ┆           ┆           ┆ equal \\(  ┆   ┆ 2+4-5     ┆           ┆           ┆          │\n",
       "│           ┆           ┆           ┆ 13 \\) ?   ┆   ┆ \\]        ┆           ┆           ┆          │\n",
       "│           ┆           ┆           ┆           ┆   ┆ W…        ┆           ┆           ┆          │\n",
       "│ 0         ┆ Use the   ┆ BIDMAS    ┆ \\[        ┆ … ┆ Use the   ┆ D         ┆ 0_D       ┆ 1672     │\n",
       "│           ┆ order of  ┆           ┆ 3 \\times  ┆   ┆ order of  ┆           ┆           ┆          │\n",
       "│           ┆ operation ┆           ┆ 2+4-5     ┆   ┆ operation ┆           ┆           ┆          │\n",
       "│           ┆ s to      ┆           ┆ \\]        ┆   ┆ s to      ┆           ┆           ┆          │\n",
       "│           ┆ carry out ┆           ┆ Where do  ┆   ┆ carry out ┆           ┆           ┆          │\n",
       "│           ┆ calculati ┆           ┆ the       ┆   ┆ calculati ┆           ┆           ┆          │\n",
       "│           ┆ ons       ┆           ┆ brackets  ┆   ┆ ons       ┆           ┆           ┆          │\n",
       "│           ┆ involving ┆           ┆ need to   ┆   ┆ involving ┆           ┆           ┆          │\n",
       "│           ┆ powers    ┆           ┆ go to     ┆   ┆ powers    ┆           ┆           ┆          │\n",
       "│           ┆           ┆           ┆ make the  ┆   ┆ BIDMAS \\[ ┆           ┆           ┆          │\n",
       "│           ┆           ┆           ┆ answer    ┆   ┆ 3 \\times  ┆           ┆           ┆          │\n",
       "│           ┆           ┆           ┆ equal \\(  ┆   ┆ 2+4-5     ┆           ┆           ┆          │\n",
       "│           ┆           ┆           ┆ 13 \\) ?   ┆   ┆ \\]        ┆           ┆           ┆          │\n",
       "│           ┆           ┆           ┆           ┆   ┆ W…        ┆           ┆           ┆          │\n",
       "│ 1000      ┆ Simplify  ┆ Simplifyi ┆ Simplify  ┆ … ┆ Simplify  ┆ A         ┆ 1000_A    ┆ 891      │\n",
       "│           ┆ an        ┆ ng        ┆ the follo ┆   ┆ an        ┆           ┆           ┆          │\n",
       "│           ┆ algebraic ┆ Algebraic ┆ wing, if  ┆   ┆ algebraic ┆           ┆           ┆          │\n",
       "│           ┆ fraction  ┆ Fractions ┆ possible: ┆   ┆ fraction  ┆           ┆           ┆          │\n",
       "│           ┆ by factor ┆           ┆ \\( \\frac{ ┆   ┆ by factor ┆           ┆           ┆          │\n",
       "│           ┆ ising the ┆           ┆ 1-t}{t-1} ┆   ┆ ising the ┆           ┆           ┆          │\n",
       "│           ┆ numerator ┆           ┆ \\)        ┆   ┆ numerator ┆           ┆           ┆          │\n",
       "│           ┆           ┆           ┆           ┆   ┆ Simplifyi ┆           ┆           ┆          │\n",
       "│           ┆           ┆           ┆           ┆   ┆ ng        ┆           ┆           ┆          │\n",
       "│           ┆           ┆           ┆           ┆   ┆ Algebraic ┆           ┆           ┆          │\n",
       "│           ┆           ┆           ┆           ┆   ┆ Fractions ┆           ┆           ┆          │\n",
       "│           ┆           ┆           ┆           ┆   ┆ Simplify… ┆           ┆           ┆          │\n",
       "└───────────┴───────────┴───────────┴───────────┴───┴───────────┴───────────┴───────────┴──────────┘"
      ]
     },
     "execution_count": 10,
     "metadata": {},
     "output_type": "execute_result"
    }
   ],
   "source": [
    "train_long = train_long.join(train_misconception_long, on=\"QuestionId_Answer\")\n",
    "train_long.head()\n"
   ]
  },
  {
   "cell_type": "code",
   "execution_count": 11,
   "metadata": {},
   "outputs": [
    {
     "name": "stdout",
     "output_type": "stream",
     "text": [
      "(7476, 1024)\n",
      "(2587, 1024)\n"
     ]
    }
   ],
   "source": [
    "model = SentenceTransformer(MODEL_NAME)\n",
    "\n",
    "train_long_vec = model.encode(\n",
    "    train_long[\"AllText\"].to_list(), normalize_embeddings=True\n",
    ")\n",
    "misconception_mapping_vec = model.encode(\n",
    "    misconception_mapping[\"MisconceptionName\"].to_list(), normalize_embeddings=True\n",
    ")\n",
    "print(train_long_vec.shape)\n",
    "print(misconception_mapping_vec.shape)\n"
   ]
  },
  {
   "cell_type": "code",
   "execution_count": 12,
   "metadata": {},
   "outputs": [],
   "source": [
    "train_cos_sim_arr = cosine_similarity(train_long_vec, misconception_mapping_vec)\n",
    "train_sorted_indices = np.argsort(-train_cos_sim_arr, axis=1)\n"
   ]
  },
  {
   "cell_type": "code",
   "execution_count": 13,
   "metadata": {},
   "outputs": [],
   "source": [
    "train_long = train_long.with_columns(\n",
    "    pl.Series(train_sorted_indices[:, :RETRIEVE_NUM].tolist()).alias(\n",
    "        \"PredictMisconceptionId\"\n",
    "    )\n",
    ")\n"
   ]
  },
  {
   "cell_type": "code",
   "execution_count": 14,
   "metadata": {},
   "outputs": [
    {
     "data": {
      "text/plain": [
       "(109250, 14)"
      ]
     },
     "execution_count": 14,
     "metadata": {},
     "output_type": "execute_result"
    }
   ],
   "source": [
    "train_retrieved = (\n",
    "    train_long.filter(\n",
    "        pl.col(\n",
    "            \"MisconceptionId\"\n",
    "        ).is_not_null()  # TODO: Consider ways to utilize data where MisconceptionId is NaN.\n",
    "    )\n",
    "    .explode(\"PredictMisconceptionId\")\n",
    "    .join(\n",
    "        misconception_mapping,\n",
    "        on=\"MisconceptionId\",\n",
    "    )\n",
    "    .join(\n",
    "        misconception_mapping.rename(lambda x: \"Predict\" + x),\n",
    "        on=\"PredictMisconceptionId\",\n",
    "    )\n",
    ")\n",
    "train_retrieved.shape\n"
   ]
  },
  {
   "cell_type": "code",
   "execution_count": 15,
   "metadata": {},
   "outputs": [
    {
     "name": "stderr",
     "output_type": "stream",
     "text": [
      "Filter (num_proc=32): 100%|██████████| 109250/109250 [00:08<00:00, 12527.15 examples/s]\n"
     ]
    }
   ],
   "source": [
    "train = (\n",
    "    Dataset.from_polars(train_retrieved)\n",
    "    .filter(  # To create an anchor, positive, and negative structure, delete rows where the positive and negative are identical.\n",
    "        lambda example: example[\"MisconceptionId\"] != example[\"PredictMisconceptionId\"],\n",
    "        num_proc=NUM_PROC,\n",
    "    )\n",
    ")\n"
   ]
  },
  {
   "cell_type": "code",
   "execution_count": 18,
   "metadata": {},
   "outputs": [
    {
     "ename": "ValueError",
     "evalue": "None is not a valid BatchSamplers, please select one of ['batch_sampler', 'no_duplicates', 'group_by_label']",
     "output_type": "error",
     "traceback": [
      "\u001b[0;31m---------------------------------------------------------------------------\u001b[0m",
      "\u001b[0;31mValueError\u001b[0m                                Traceback (most recent call last)",
      "Cell \u001b[0;32mIn[18], line 5\u001b[0m\n\u001b[1;32m      1\u001b[0m model \u001b[38;5;241m=\u001b[39m SentenceTransformer(MODEL_NAME)\n\u001b[1;32m      3\u001b[0m loss \u001b[38;5;241m=\u001b[39m MultipleNegativesRankingLoss(model)\n\u001b[0;32m----> 5\u001b[0m args \u001b[38;5;241m=\u001b[39m \u001b[43mSentenceTransformerTrainingArguments\u001b[49m\u001b[43m(\u001b[49m\n\u001b[1;32m      6\u001b[0m \u001b[43m    \u001b[49m\u001b[43moutput_dir\u001b[49m\u001b[38;5;241;43m=\u001b[39;49m\u001b[43mOUTPUT_PATH\u001b[49m\u001b[43m,\u001b[49m\n\u001b[1;32m      7\u001b[0m \u001b[43m    \u001b[49m\u001b[43mnum_train_epochs\u001b[49m\u001b[38;5;241;43m=\u001b[39;49m\u001b[43mEPOCH\u001b[49m\u001b[43m,\u001b[49m\n\u001b[1;32m      8\u001b[0m \u001b[43m    \u001b[49m\u001b[43mper_device_train_batch_size\u001b[49m\u001b[38;5;241;43m=\u001b[39;49m\u001b[43mBS\u001b[49m\u001b[43m,\u001b[49m\n\u001b[1;32m      9\u001b[0m \u001b[43m    \u001b[49m\u001b[43mgradient_accumulation_steps\u001b[49m\u001b[38;5;241;43m=\u001b[39;49m\u001b[43mGRAD_ACC_STEP\u001b[49m\u001b[43m,\u001b[49m\n\u001b[1;32m     10\u001b[0m \u001b[43m    \u001b[49m\u001b[43mper_device_eval_batch_size\u001b[49m\u001b[38;5;241;43m=\u001b[39;49m\u001b[43mBS\u001b[49m\u001b[43m,\u001b[49m\n\u001b[1;32m     11\u001b[0m \u001b[43m    \u001b[49m\u001b[43meval_accumulation_steps\u001b[49m\u001b[38;5;241;43m=\u001b[39;49m\u001b[43mGRAD_ACC_STEP\u001b[49m\u001b[43m,\u001b[49m\n\u001b[1;32m     12\u001b[0m \u001b[43m    \u001b[49m\u001b[43mlearning_rate\u001b[49m\u001b[38;5;241;43m=\u001b[39;49m\u001b[43mLR\u001b[49m\u001b[43m,\u001b[49m\n\u001b[1;32m     13\u001b[0m \u001b[43m    \u001b[49m\u001b[43mweight_decay\u001b[49m\u001b[38;5;241;43m=\u001b[39;49m\u001b[38;5;241;43m0.01\u001b[39;49m\u001b[43m,\u001b[49m\n\u001b[1;32m     14\u001b[0m \u001b[43m    \u001b[49m\u001b[43mwarmup_ratio\u001b[49m\u001b[38;5;241;43m=\u001b[39;49m\u001b[38;5;241;43m0.1\u001b[39;49m\u001b[43m,\u001b[49m\n\u001b[1;32m     15\u001b[0m \u001b[43m    \u001b[49m\u001b[43mfp16\u001b[49m\u001b[38;5;241;43m=\u001b[39;49m\u001b[38;5;28;43;01mFalse\u001b[39;49;00m\u001b[43m,\u001b[49m\u001b[43m  \u001b[49m\u001b[38;5;66;43;03m# 一旦無効化\u001b[39;49;00m\n\u001b[1;32m     16\u001b[0m \u001b[43m    \u001b[49m\u001b[43mbf16\u001b[49m\u001b[38;5;241;43m=\u001b[39;49m\u001b[38;5;28;43;01mFalse\u001b[39;49;00m\u001b[43m,\u001b[49m\u001b[43m  \u001b[49m\u001b[38;5;66;43;03m# 一旦無効化\u001b[39;49;00m\n\u001b[1;32m     17\u001b[0m \u001b[43m    \u001b[49m\u001b[43mbatch_sampler\u001b[49m\u001b[38;5;241;43m=\u001b[39;49m\u001b[38;5;28;43;01mNone\u001b[39;49;00m\u001b[43m,\u001b[49m\u001b[43m  \u001b[49m\u001b[38;5;66;43;03m# サンプラーを無効化\u001b[39;49;00m\n\u001b[1;32m     18\u001b[0m \u001b[43m    \u001b[49m\u001b[43mlr_scheduler_type\u001b[49m\u001b[38;5;241;43m=\u001b[39;49m\u001b[38;5;124;43m\"\u001b[39;49m\u001b[38;5;124;43mcosine_with_restarts\u001b[39;49m\u001b[38;5;124;43m\"\u001b[39;49m\u001b[43m,\u001b[49m\n\u001b[1;32m     19\u001b[0m \u001b[43m    \u001b[49m\u001b[43msave_strategy\u001b[49m\u001b[38;5;241;43m=\u001b[39;49m\u001b[38;5;124;43m\"\u001b[39;49m\u001b[38;5;124;43msteps\u001b[39;49m\u001b[38;5;124;43m\"\u001b[39;49m\u001b[43m,\u001b[49m\n\u001b[1;32m     20\u001b[0m \u001b[43m    \u001b[49m\u001b[43msave_steps\u001b[49m\u001b[38;5;241;43m=\u001b[39;49m\u001b[38;5;241;43m10\u001b[39;49m\u001b[43m,\u001b[49m\u001b[43m  \u001b[49m\u001b[38;5;66;43;03m# `0.1`を具体的な整数に変更\u001b[39;49;00m\n\u001b[1;32m     21\u001b[0m \u001b[43m    \u001b[49m\u001b[43msave_total_limit\u001b[49m\u001b[38;5;241;43m=\u001b[39;49m\u001b[38;5;241;43m2\u001b[39;49m\u001b[43m,\u001b[49m\n\u001b[1;32m     22\u001b[0m \u001b[43m    \u001b[49m\u001b[43mlogging_steps\u001b[49m\u001b[38;5;241;43m=\u001b[39;49m\u001b[38;5;241;43m100\u001b[39;49m\u001b[43m,\u001b[49m\n\u001b[1;32m     23\u001b[0m \u001b[43m    \u001b[49m\u001b[43mreport_to\u001b[49m\u001b[38;5;241;43m=\u001b[39;49m\u001b[43mREPORT_TO\u001b[49m\u001b[43m,\u001b[49m\n\u001b[1;32m     24\u001b[0m \u001b[43m    \u001b[49m\u001b[43mrun_name\u001b[49m\u001b[38;5;241;43m=\u001b[39;49m\u001b[43mEXP_NAME\u001b[49m\u001b[43m,\u001b[49m\n\u001b[1;32m     25\u001b[0m \u001b[43m    \u001b[49m\u001b[43mdo_eval\u001b[49m\u001b[38;5;241;43m=\u001b[39;49m\u001b[38;5;28;43;01mFalse\u001b[39;49;00m\n\u001b[1;32m     26\u001b[0m \u001b[43m)\u001b[49m\n\u001b[1;32m     28\u001b[0m trainer \u001b[38;5;241m=\u001b[39m SentenceTransformerTrainer(\n\u001b[1;32m     29\u001b[0m     model\u001b[38;5;241m=\u001b[39mmodel,\n\u001b[1;32m     30\u001b[0m     args\u001b[38;5;241m=\u001b[39margs,\n\u001b[0;32m   (...)\u001b[0m\n\u001b[1;32m     34\u001b[0m     loss\u001b[38;5;241m=\u001b[39mloss\n\u001b[1;32m     35\u001b[0m )\n\u001b[1;32m     37\u001b[0m trainer\u001b[38;5;241m.\u001b[39mtrain()\n",
      "File \u001b[0;32m<string>:136\u001b[0m, in \u001b[0;36m__init__\u001b[0;34m(self, output_dir, overwrite_output_dir, do_train, do_eval, do_predict, eval_strategy, prediction_loss_only, per_device_train_batch_size, per_device_eval_batch_size, per_gpu_train_batch_size, per_gpu_eval_batch_size, gradient_accumulation_steps, eval_accumulation_steps, eval_delay, torch_empty_cache_steps, learning_rate, weight_decay, adam_beta1, adam_beta2, adam_epsilon, max_grad_norm, num_train_epochs, max_steps, lr_scheduler_type, lr_scheduler_kwargs, warmup_ratio, warmup_steps, log_level, log_level_replica, log_on_each_node, logging_dir, logging_strategy, logging_first_step, logging_steps, logging_nan_inf_filter, save_strategy, save_steps, save_total_limit, save_safetensors, save_on_each_node, save_only_model, restore_callback_states_from_checkpoint, no_cuda, use_cpu, use_mps_device, seed, data_seed, jit_mode_eval, use_ipex, bf16, fp16, fp16_opt_level, half_precision_backend, bf16_full_eval, fp16_full_eval, tf32, local_rank, ddp_backend, tpu_num_cores, tpu_metrics_debug, debug, dataloader_drop_last, eval_steps, dataloader_num_workers, dataloader_prefetch_factor, past_index, run_name, disable_tqdm, remove_unused_columns, label_names, load_best_model_at_end, metric_for_best_model, greater_is_better, ignore_data_skip, fsdp, fsdp_min_num_params, fsdp_config, fsdp_transformer_layer_cls_to_wrap, accelerator_config, deepspeed, label_smoothing_factor, optim, optim_args, adafactor, group_by_length, length_column_name, report_to, ddp_find_unused_parameters, ddp_bucket_cap_mb, ddp_broadcast_buffers, dataloader_pin_memory, dataloader_persistent_workers, skip_memory_metrics, use_legacy_prediction_loop, push_to_hub, resume_from_checkpoint, hub_model_id, hub_strategy, hub_token, hub_private_repo, hub_always_push, gradient_checkpointing, gradient_checkpointing_kwargs, include_inputs_for_metrics, include_for_metrics, eval_do_concat_batches, fp16_backend, evaluation_strategy, push_to_hub_model_id, push_to_hub_organization, push_to_hub_token, mp_parameters, auto_find_batch_size, full_determinism, torchdynamo, ray_scope, ddp_timeout, torch_compile, torch_compile_backend, torch_compile_mode, dispatch_batches, split_batches, include_tokens_per_second, include_num_input_tokens_seen, neftune_noise_alpha, optim_target_modules, batch_eval_metrics, eval_on_start, use_liger_kernel, eval_use_gather_object, average_tokens_across_devices, batch_sampler, multi_dataset_batch_sampler)\u001b[0m\n",
      "File \u001b[0;32m~/my_kaggle_env/.venv/lib/python3.12/site-packages/sentence_transformers/training_args.py:170\u001b[0m, in \u001b[0;36mSentenceTransformerTrainingArguments.__post_init__\u001b[0;34m(self)\u001b[0m\n\u001b[1;32m    167\u001b[0m \u001b[38;5;28;01mdef\u001b[39;00m \u001b[38;5;21m__post_init__\u001b[39m(\u001b[38;5;28mself\u001b[39m):\n\u001b[1;32m    168\u001b[0m     \u001b[38;5;28msuper\u001b[39m()\u001b[38;5;241m.\u001b[39m__post_init__()\n\u001b[0;32m--> 170\u001b[0m     \u001b[38;5;28mself\u001b[39m\u001b[38;5;241m.\u001b[39mbatch_sampler \u001b[38;5;241m=\u001b[39m \u001b[43mBatchSamplers\u001b[49m\u001b[43m(\u001b[49m\u001b[38;5;28;43mself\u001b[39;49m\u001b[38;5;241;43m.\u001b[39;49m\u001b[43mbatch_sampler\u001b[49m\u001b[43m)\u001b[49m\n\u001b[1;32m    171\u001b[0m     \u001b[38;5;28mself\u001b[39m\u001b[38;5;241m.\u001b[39mmulti_dataset_batch_sampler \u001b[38;5;241m=\u001b[39m MultiDatasetBatchSamplers(\u001b[38;5;28mself\u001b[39m\u001b[38;5;241m.\u001b[39mmulti_dataset_batch_sampler)\n\u001b[1;32m    173\u001b[0m     \u001b[38;5;66;03m# The `compute_loss` method in `SentenceTransformerTrainer` is overridden to only compute the prediction loss,\u001b[39;00m\n\u001b[1;32m    174\u001b[0m     \u001b[38;5;66;03m# so we set `prediction_loss_only` to `True` here to avoid\u001b[39;00m\n",
      "File \u001b[0;32m~/.local/share/uv/python/cpython-3.12.7-linux-x86_64-gnu/lib/python3.12/enum.py:757\u001b[0m, in \u001b[0;36mEnumType.__call__\u001b[0;34m(cls, value, names, module, qualname, type, start, boundary, *values)\u001b[0m\n\u001b[1;32m    755\u001b[0m     \u001b[38;5;28;01mif\u001b[39;00m names \u001b[38;5;129;01mis\u001b[39;00m \u001b[38;5;129;01mnot\u001b[39;00m _not_given:\n\u001b[1;32m    756\u001b[0m         value \u001b[38;5;241m=\u001b[39m (value, names) \u001b[38;5;241m+\u001b[39m values\n\u001b[0;32m--> 757\u001b[0m     \u001b[38;5;28;01mreturn\u001b[39;00m \u001b[38;5;28;43mcls\u001b[39;49m\u001b[38;5;241;43m.\u001b[39;49m\u001b[38;5;21;43m__new__\u001b[39;49m\u001b[43m(\u001b[49m\u001b[38;5;28;43mcls\u001b[39;49m\u001b[43m,\u001b[49m\u001b[43m \u001b[49m\u001b[43mvalue\u001b[49m\u001b[43m)\u001b[49m\n\u001b[1;32m    758\u001b[0m \u001b[38;5;66;03m# otherwise, functional API: we're creating a new Enum type\u001b[39;00m\n\u001b[1;32m    759\u001b[0m \u001b[38;5;28;01mif\u001b[39;00m names \u001b[38;5;129;01mis\u001b[39;00m _not_given \u001b[38;5;129;01mand\u001b[39;00m \u001b[38;5;28mtype\u001b[39m \u001b[38;5;129;01mis\u001b[39;00m \u001b[38;5;28;01mNone\u001b[39;00m:\n\u001b[1;32m    760\u001b[0m     \u001b[38;5;66;03m# no body? no data-type? possibly wrong usage\u001b[39;00m\n",
      "File \u001b[0;32m~/.local/share/uv/python/cpython-3.12.7-linux-x86_64-gnu/lib/python3.12/enum.py:1179\u001b[0m, in \u001b[0;36mEnum.__new__\u001b[0;34m(cls, value)\u001b[0m\n\u001b[1;32m   1177\u001b[0m         \u001b[38;5;28;01mif\u001b[39;00m \u001b[38;5;129;01mnot\u001b[39;00m \u001b[38;5;28misinstance\u001b[39m(exc, \u001b[38;5;167;01mValueError\u001b[39;00m):\n\u001b[1;32m   1178\u001b[0m             exc\u001b[38;5;241m.\u001b[39m__context__ \u001b[38;5;241m=\u001b[39m ve_exc\n\u001b[0;32m-> 1179\u001b[0m         \u001b[38;5;28;01mraise\u001b[39;00m exc\n\u001b[1;32m   1180\u001b[0m \u001b[38;5;28;01mfinally\u001b[39;00m:\n\u001b[1;32m   1181\u001b[0m     \u001b[38;5;66;03m# ensure all variables that could hold an exception are destroyed\u001b[39;00m\n\u001b[1;32m   1182\u001b[0m     exc \u001b[38;5;241m=\u001b[39m \u001b[38;5;28;01mNone\u001b[39;00m\n",
      "File \u001b[0;32m~/.local/share/uv/python/cpython-3.12.7-linux-x86_64-gnu/lib/python3.12/enum.py:1156\u001b[0m, in \u001b[0;36mEnum.__new__\u001b[0;34m(cls, value)\u001b[0m\n\u001b[1;32m   1154\u001b[0m \u001b[38;5;28;01mtry\u001b[39;00m:\n\u001b[1;32m   1155\u001b[0m     exc \u001b[38;5;241m=\u001b[39m \u001b[38;5;28;01mNone\u001b[39;00m\n\u001b[0;32m-> 1156\u001b[0m     result \u001b[38;5;241m=\u001b[39m \u001b[38;5;28;43mcls\u001b[39;49m\u001b[38;5;241;43m.\u001b[39;49m\u001b[43m_missing_\u001b[49m\u001b[43m(\u001b[49m\u001b[43mvalue\u001b[49m\u001b[43m)\u001b[49m\n\u001b[1;32m   1157\u001b[0m \u001b[38;5;28;01mexcept\u001b[39;00m \u001b[38;5;167;01mException\u001b[39;00m \u001b[38;5;28;01mas\u001b[39;00m e:\n\u001b[1;32m   1158\u001b[0m     exc \u001b[38;5;241m=\u001b[39m e\n",
      "File \u001b[0;32m~/my_kaggle_env/.venv/lib/python3.12/site-packages/transformers/utils/generic.py:496\u001b[0m, in \u001b[0;36mExplicitEnum._missing_\u001b[0;34m(cls, value)\u001b[0m\n\u001b[1;32m    494\u001b[0m \u001b[38;5;129m@classmethod\u001b[39m\n\u001b[1;32m    495\u001b[0m \u001b[38;5;28;01mdef\u001b[39;00m \u001b[38;5;21m_missing_\u001b[39m(\u001b[38;5;28mcls\u001b[39m, value):\n\u001b[0;32m--> 496\u001b[0m     \u001b[38;5;28;01mraise\u001b[39;00m \u001b[38;5;167;01mValueError\u001b[39;00m(\n\u001b[1;32m    497\u001b[0m         \u001b[38;5;124mf\u001b[39m\u001b[38;5;124m\"\u001b[39m\u001b[38;5;132;01m{\u001b[39;00mvalue\u001b[38;5;132;01m}\u001b[39;00m\u001b[38;5;124m is not a valid \u001b[39m\u001b[38;5;132;01m{\u001b[39;00m\u001b[38;5;28mcls\u001b[39m\u001b[38;5;241m.\u001b[39m\u001b[38;5;18m__name__\u001b[39m\u001b[38;5;132;01m}\u001b[39;00m\u001b[38;5;124m, please select one of \u001b[39m\u001b[38;5;132;01m{\u001b[39;00m\u001b[38;5;28mlist\u001b[39m(\u001b[38;5;28mcls\u001b[39m\u001b[38;5;241m.\u001b[39m_value2member_map_\u001b[38;5;241m.\u001b[39mkeys())\u001b[38;5;132;01m}\u001b[39;00m\u001b[38;5;124m\"\u001b[39m\n\u001b[1;32m    498\u001b[0m     )\n",
      "\u001b[0;31mValueError\u001b[0m: None is not a valid BatchSamplers, please select one of ['batch_sampler', 'no_duplicates', 'group_by_label']"
     ]
    }
   ],
   "source": [
    "model = SentenceTransformer(MODEL_NAME)\n",
    "\n",
    "loss = MultipleNegativesRankingLoss(model)\n",
    "\n",
    "args = SentenceTransformerTrainingArguments(\n",
    "    output_dir=OUTPUT_PATH,\n",
    "    num_train_epochs=EPOCH,\n",
    "    per_device_train_batch_size=BS,\n",
    "    gradient_accumulation_steps=GRAD_ACC_STEP,\n",
    "    per_device_eval_batch_size=BS,\n",
    "    eval_accumulation_steps=GRAD_ACC_STEP,\n",
    "    learning_rate=LR,\n",
    "    weight_decay=0.01,\n",
    "    warmup_ratio=0.1,\n",
    "    fp16=False,  # 一旦無効化\n",
    "    bf16=False,  # 一旦無効化\n",
    "    batch_sampler=None,  # サンプラーを無効化\n",
    "    lr_scheduler_type=\"cosine_with_restarts\",\n",
    "    save_strategy=\"steps\",\n",
    "    save_steps=10,  # `0.1`を具体的な整数に変更\n",
    "    save_total_limit=2,\n",
    "    logging_steps=100,\n",
    "    report_to=REPORT_TO,\n",
    "    run_name=EXP_NAME,\n",
    "    do_eval=False\n",
    ")\n",
    "\n",
    "trainer = SentenceTransformerTrainer(\n",
    "    model=model,\n",
    "    args=args,\n",
    "    train_dataset=train.select_columns(\n",
    "        [\"AllText\", \"MisconceptionName\", \"PredictMisconceptionName\"]\n",
    "    ),\n",
    "    loss=loss\n",
    ")\n",
    "\n",
    "trainer.train()\n",
    "model.save_pretrained(MODEL_OUTPUT_PATH)\n"
   ]
  },
  {
   "cell_type": "code",
   "execution_count": null,
   "metadata": {},
   "outputs": [],
   "source": []
  }
 ],
 "metadata": {
  "kernelspec": {
   "display_name": ".venv",
   "language": "python",
   "name": "python3"
  },
  "language_info": {
   "codemirror_mode": {
    "name": "ipython",
    "version": 3
   },
   "file_extension": ".py",
   "mimetype": "text/x-python",
   "name": "python",
   "nbconvert_exporter": "python",
   "pygments_lexer": "ipython3",
   "version": "3.12.7"
  }
 },
 "nbformat": 4,
 "nbformat_minor": 2
}
