{
 "cells": [
  {
   "cell_type": "code",
   "execution_count": 1,
   "metadata": {},
   "outputs": [],
   "source": [
    "from pathlib import Path\n",
    "\n",
    "import numpy as np\n",
    "import pandas as pd\n",
    "import polars as pl\n",
    "import seaborn as sns\n",
    "from hydra import compose, initialize\n",
    "from matplotlib import pyplot as plt\n",
    "from matplotlib_venn import venn2\n",
    "\n",
    "pl.Config.set_fmt_str_lengths(100)\n",
    "\n",
    "\n",
    "def draw_venn2(train, test, rows, columns, x_size, y_size):\n",
    "    fig, axes = plt.subplots(rows, columns, figsize=(x_size, y_size))\n",
    "    column_names = test.columns\n",
    "    for col, ax in zip(column_names, axes.ravel(), strict=False):\n",
    "        venn2(\n",
    "            subsets=(set(train[col].dropna().unique()), set(test[col].dropna().unique())),\n",
    "            set_labels=(\"train\", \"test\"),\n",
    "            ax=ax,\n",
    "        )\n",
    "        ax.set_title(col)\n",
    "    fig.tight_layout()\n",
    "\n",
    "\n",
    "with initialize(config_path=\"config\", version_base=None):\n",
    "    cfg = compose(config_name=\"config\")\n",
    "    cfg.exp_number = Path().resolve().name\n"
   ]
  },
  {
   "cell_type": "code",
   "execution_count": 26,
   "metadata": {},
   "outputs": [],
   "source": [
    "train_df = pl.read_csv(cfg.path.train, try_parse_dates=True)\n",
    "test_df = pl.read_csv(cfg.path.test, try_parse_dates=True)\n"
   ]
  },
  {
   "cell_type": "code",
   "execution_count": 3,
   "metadata": {},
   "outputs": [],
   "source": [
    "print(\"■ train\")\n",
    "display(train_df.head())\n",
    "print(\"■ test\")\n",
    "display(test_df.head())\n"
   ]
  },
  {
   "cell_type": "code",
   "execution_count": 2,
   "metadata": {},
   "outputs": [],
   "source": [
    "print(\"■ train\")\n",
    "display(train_df.describe())\n",
    "print(train_df.dtypes)\n",
    "print(f\"行数: {train_df.shape[0]}, 列数: {train_df.shape[1]}\")\n",
    "\n",
    "print(\"\\n■ test\")\n",
    "display(test_df.describe())\n",
    "print(test_df.dtypes)\n",
    "print(f\"行数: {test_df.shape[0]}, 列数: {test_df.shape[1]}\")\n",
    "print(set(train_df.columns) - set(test_df.columns))\n"
   ]
  }
 ],
 "metadata": {
  "kernelspec": {
   "display_name": ".venv",
   "language": "python",
   "name": "python3"
  },
  "language_info": {
   "codemirror_mode": {
    "name": "ipython",
    "version": 3
   },
   "file_extension": ".py",
   "mimetype": "text/x-python",
   "name": "python",
   "nbconvert_exporter": "python",
   "pygments_lexer": "ipython3",
   "version": "3.12.4"
  }
 },
 "nbformat": 4,
 "nbformat_minor": 2
}
